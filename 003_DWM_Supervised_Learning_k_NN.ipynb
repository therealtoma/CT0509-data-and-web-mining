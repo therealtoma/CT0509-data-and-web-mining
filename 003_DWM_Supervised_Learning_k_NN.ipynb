{
  "cells": [
    {
      "cell_type": "markdown",
      "metadata": {
        "id": "hPnpaei5FgvT"
      },
      "source": [
        "# Supervised Learning: Classification\n"
      ]
    },
    {
      "cell_type": "markdown",
      "metadata": {
        "id": "xXfzrRWFFgvW"
      },
      "source": [
        "## Supervised Learning\n",
        "\n",
        "- **Classification** is a form of data analysis that extracts models describing important data classes.\n",
        "\n",
        "\n",
        "- Such models, called **classifiers**, predict categorical (discrete, unordered) **class labels**.\n",
        "  - For example, we can build a classification model to categorize bank loan applications as either safe or risky.\n",
        "\n",
        "- In contrast, **regression analysis** is a statistical methodology that is most often used for **numeric prediction**\n",
        "\n",
        "\n",
        "- Data classification is a two-step process, consisting of a **learning/training step** (where a classification model is constructed) and a **classification step** (where the model is used to predict class labels for given data).\n",
        "\n",
        "\n",
        "- **Training Step**\n",
        "  - A tuple, X, is represented by an n-dimensional attribute vector.\n",
        "  - plus a class label attribute\n",
        "\n",
        "\n",
        "- Because the class label of each training tuple is provided, this step is also known as **supervised learning**\n",
        "  - It contrasts with unsupervised learning (or clustering)\n",
        "\n",
        "\n",
        "- **Classification/Test Step**\n",
        "  - The **accuracy** of a classifier on a given test set is the percentage of test set tuples that are correctly classified by the classifier.\n"
      ]
    },
    {
      "cell_type": "markdown",
      "metadata": {
        "id": "KJqy62i7FgvX"
      },
      "source": [
        "# Wine dataset\n",
        "\n",
        "Url: http://archive.ics.uci.edu/ml/datasets/Wine\n",
        "\n",
        "\n",
        "These data are the results of a chemical analysis of wines grown in the same region in Italy but derived from three different cultivars. The analysis determined the quantities of 13 constituents found in each of the three types of wines.\n",
        "\n",
        "\n",
        "The attributes are:\n",
        "\n",
        "0. Quality (1-3)\n",
        "1. Alcohol\n",
        "1. Malic acid\n",
        "1. Ash\n",
        "1. Alcalinity of ash\n",
        "1. Magnesium\n",
        "1. Total phenols\n",
        "1. Flavanoids\n",
        "1. Nonflavanoid phenols\n",
        "1. Proanthocyanins\n",
        "1. Color intensity\n",
        "1. Hue\n",
        "1. OD280/OD315 of diluted wines\n",
        "1. Proline\n"
      ]
    },
    {
      "cell_type": "code",
      "execution_count": 1,
      "metadata": {
        "id": "CnqJZpEzFgvX"
      },
      "outputs": [],
      "source": [
        "import numpy as np\n",
        "import pandas as pd\n",
        "\n",
        "data_url = 'http://archive.ics.uci.edu/ml/machine-learning-databases/wine/wine.data'\n",
        "df = pd.read_csv(data_url, header=None)"
      ]
    },
    {
      "cell_type": "code",
      "execution_count": null,
      "metadata": {
        "id": "YOBiXAELFgvY"
      },
      "outputs": [],
      "source": [
        "df.head()"
      ]
    },
    {
      "cell_type": "code",
      "execution_count": null,
      "metadata": {
        "id": "grkIpk-BFgvZ"
      },
      "outputs": [],
      "source": [
        "df.describe().T"
      ]
    },
    {
      "cell_type": "code",
      "execution_count": null,
      "metadata": {
        "id": "rT_uUogHFgvZ"
      },
      "outputs": [],
      "source": [
        "df.info()"
      ]
    },
    {
      "cell_type": "code",
      "execution_count": null,
      "metadata": {
        "id": "NXfixgGcFgvZ"
      },
      "outputs": [],
      "source": [
        "# data preparation\n",
        "# convert to float to have precise and homogenoues computation\n",
        "dataset = df.astype(float)\n",
        "print(\"dataset shape\", dataset.shape)\n",
        "\n",
        "# get features by removing class label\n",
        "# remove id\n",
        "X = dataset.loc[:,1:]\n",
        "print(\"X shape\", X.shape)\n",
        "\n",
        "# get class label\n",
        "y = dataset.loc[:,0]\n",
        "print(\"y shape\", y.shape)"
      ]
    },
    {
      "cell_type": "code",
      "execution_count": null,
      "metadata": {
        "id": "JP-SdTF1Fgva"
      },
      "outputs": [],
      "source": [
        "X.head()"
      ]
    },
    {
      "cell_type": "code",
      "execution_count": null,
      "metadata": {
        "scrolled": true,
        "id": "mXGYQJDxFgva"
      },
      "outputs": [],
      "source": [
        "y.head()"
      ]
    },
    {
      "cell_type": "markdown",
      "metadata": {
        "id": "0Quku95vFgva"
      },
      "source": [
        "## Train vs. Test\n",
        "\n",
        "We simulate novel/unknown instances by splitting the available data in to a **training** and a **test** set."
      ]
    },
    {
      "cell_type": "markdown",
      "metadata": {
        "id": "gBcMGt3-Fgvb"
      },
      "source": [
        "![image.png](data:image/png;base64,iVBORw0KGgoAAAANSUhEUgAAAYQAAADfCAIAAAB54TMEAAAKq2lDQ1BJQ0MgUHJvZmlsZQAASImVlwdQk9kWgO//p4eElhCKlNCbIJ0AUkJoARSkg6iEJIRQQggEFbuyuAIriooIVnQFRMG1ALLYEMXCoqAo1g2yiCjrYsGGyvuBIbj75r0378ycOV9Ozj3n3Dv3zpwfALIyRyxOg5UBSBdlS8L8vekxsXF03CAgADSAgRow4XCzxMzQ0GCAyLT9u7y/C6AJe9tqIte///9fRYXHz+ICAIUinMjL4qYjfArRF1yxJBsA1H7Eb7g0WzzBbQhTJUiDCPdOsGCKhyc4cZLRYDImIoyFMBUAPInDkQgAINERPz2HK0DykLwQthHxhCKExQh7pKdn8BA+jrAZEoP4SBP5GYnf5RH8LWeiPCeHI5Dz1F4mBe8jzBKncZb/n8fxvyU9TTpdwwRRUrIkIAyxqsiZ9aZmBMlZlDg/ZJqFvMn4SU6WBkROMzeLFTfNPI5PkHxt2vzgaU4S+rHlebLZEdPMz/INn2ZJRpi8VpKExZxmjmSmrjQ1Uu5P5rPl+XOTI6KnOUcYNX+as1LDg2ZiWHK/RBom758v8veeqesn33t61nf7FbLla7OTIwLke+fM9M8XMWdyZsXIe+PxfXxnYiLl8eJsb3ktcVqoPJ6f5i/3Z+WEy9dmIxdyZm2o/AxTOIGh0wxYIAOkISoBdBCM/PIBIJu/LHtiI6wM8XKJUJCcTWciL4xPZ4u41rPpdjZ29gBMvNep6/CWNvkOIdr1Gd8GIgDuovHx8ZYZX9BnAE7pA0CUzfhMuwFQRO791a1cqSRnyjf5ljCACJQAFWgCXWAIzIAVsANOwA14AV8QCEJABIgFiwEXJIN0pPOlYCVYB/JBIdgCdoBysA8cBNXgGDgBGkELuAiugBvgFugBD4EMDICXYAS8B2MQBOEgMkSBNCE9yBiyhOwgBuQB+ULBUBgUCyVAAkgESaGV0AaoECqByqEDUA30C3QGughdg7qg+1AfNAS9gT7DKJgEU2Ed2ASeAzNgJhwER8CLYAGcCefCefBmuAyuhI/CDfBF+AbcA8vgl/AoCqAUUDSUPsoKxUCxUCGoOFQSSoJajSpAlaIqUXWoZlQ76jZKhhpGfUJj0RQ0HW2FdkMHoCPRXHQmejW6CF2OrkY3oNvQt9F96BH0NwwZo42xxLhi2JgYjACzFJOPKcUcxpzGXMb0YAYw77FYLA1rinXGBmBjsSnYFdgi7B5sPfYCtgvbjx3F4XCaOEucOy4Ex8Fl4/Jxu3BHcedx3bgB3Ee8Al4Pb4f3w8fhRfj1+FL8Efw5fDd+ED9GUCYYE1wJIQQeYTmhmHCI0Ey4SRggjBFViKZEd2IEMYW4jlhGrCNeJj4ivlVQUDBQcFFYoCBUWKtQpnBc4apCn8InkirJgsQixZOkpM2kKtIF0n3SWzKZbEL2IseRs8mbyTXkS+Qn5I+KFEVrRbYiT3GNYoVig2K34islgpKxElNpsVKuUqnSSaWbSsPKBGUTZZYyR3m1coXyGeV7yqMqFBVblRCVdJUilSMq11Seq+JUTVR9VXmqeaoHVS+p9lNQFEMKi8KlbKAcolymDFCxVFMqm5pCLaQeo3ZSR9RU1RzUotSWqVWonVWT0VA0ExqblkYrpp2g3aV9VtdRZ6rz1Tep16l3q3/QmKXhpcHXKNCo1+jR+KxJ1/TVTNXcqtmo+VgLrWWhtUBrqdZerctaw7Oos9xmcWcVzDox64E2rG2hHaa9Qvugdof2qI6ujr+OWGeXziWdYV2arpduiu523XO6Q3oUPQ89od52vfN6L+hqdCY9jV5Gb6OP6GvrB+hL9Q/od+qPGZgaRBqsN6g3eGxINGQYJhluN2w1HDHSM5pntNKo1uiBMcGYYZxsvNO43fiDialJtMlGk0aT56YapmzTXNNa00dmZDNPs0yzSrM75lhzhnmq+R7zWxawhaNFskWFxU1L2NLJUmi5x7JrNma2y2zR7MrZ96xIVkyrHKtaqz5rmnWw9XrrRutXc4zmxM3ZOqd9zjcbR5s0m0M2D21VbQNt19s2276xs7Dj2lXY3bEn2/vZr7Fvsn/tYOnAd9jr0OtIcZznuNGx1fGrk7OTxKnOacjZyDnBebfzPQaVEcooYlx1wbh4u6xxaXH55Orkmu16wvUvNyu3VLcjbs/nms7lzz00t9/dwJ3jfsBd5kH3SPDY7yHz1PfkeFZ6PvUy9OJ5HfYaZJozU5hHma+8bbwl3qe9P7BcWatYF3xQPv4+BT6dvqq+kb7lvk/8DPwEfrV+I/6O/iv8LwRgAoICtgbcY+uwuewa9kigc+CqwLYgUlB4UHnQ02CLYElw8zx4XuC8bfMezTeeL5rfGAJC2CHbQh6HmoZmhv66ALsgdEHFgmdhtmErw9rDKeFLwo+Ev4/wjiiOeBhpFimNbI1SioqPqon6EO0TXRIti5kTsyrmRqxWrDC2KQ4XFxV3OG50oe/CHQsH4h3j8+PvLjJdtGzRtcVai9MWn12itISz5GQCJiE64UjCF04Ip5IzmshO3J04wmVxd3Jf8rx423lDfHd+CX8wyT2pJOm5wF2wTTCU7JlcmjwsZAnLha9TAlL2pXxIDUmtSh1Pi06rT8enJ6SfEamKUkVtGboZyzK6xJbifLEs0zVzR+aIJEhyOAvKWpTVlE1FBqMOqZn0B2lfjkdORc7HpVFLTy5TWSZa1rHcYvmm5YO5frk/r0Cv4K5oXam/ct3KvlXMVQdWQ6sTV7euMVyTt2Zgrf/a6nXEdanrfltvs75k/bsN0Rua83Ty1ub1/+D/Q22+Yr4k/95Gt437fkT/KPyxc5P9pl2bvhXwCq4X2hSWFn4p4hZd/8n2p7Kfxjcnbe4sdireuwW7RbTl7lbPrdUlKiW5Jf3b5m1r2E7fXrD93Y4lO66VOpTu20ncKd0pKwsua9pltGvLri/lyeU9Fd4V9bu1d2/a/WEPb0/3Xq+9dft09hXu+7xfuL/3gP+BhkqTytKD2IM5B58dijrU/jPj55rDWocLD3+tElXJqsOq22qca2qOaB8proVrpbVDR+OP3jrmc6ypzqruQD2tvvA4OC49/uKXhF/ungg60XqScbLulPGp3acppwsaoIblDSONyY2yptimrjOBZ1qb3ZpP/2r9a1WLfkvFWbWzxeeI5/LOjZ/PPT96QXxh+KLgYn/rktaHl2Iu3Wlb0NZ5Oejy1St+Vy61M9vPX3W/2nLN9dqZ64zrjTecbjR0OHac/s3xt9OdTp0NN51vNt1yudXcNbfrXLdn98XbPrev3GHfudEzv6frbuTd3nvx92S9vN7n99Puv36Q82Ds4dpHmEcFj5Uflz7RflL5u/nv9TIn2dk+n76Op+FPH/Zz+1/+kfXHl4G8Z+RnpYN6gzXP7Z63DPkN3Xqx8MXAS/HLseH8P1X+3P3K7NWpv7z+6hiJGRl4LXk9/qborebbqncO71pHQ0efvE9/P/ah4KPmx+pPjE/tn6M/D44t/YL7UvbV/Gvzt6Bvj8bTx8fFHAlnchRAIQonJQHwpgoAciwAlFvI/LBwap6eFGjqG2CSwH/iqZl7UpwAqEPMxFjEugDAcURN1iK5EZ0YiSK8AGxvL9fp2XdyTp8QLPLFst9jgno0eGvBP2Rqhv+u739aMJHVAfzT/gvWxgaOqUVfRgAAADhlWElmTU0AKgAAAAgAAYdpAAQAAAABAAAAGgAAAAAAAqACAAQAAAABAAABhKADAAQAAAABAAAA3wAAAABNX+95AAA+xklEQVR4Ae2dCbRdVZnn7zy9l/cykXkgEEhIZEZEqhCpJSxFWWihlEpVw7IEbcVi4dCuVgqr1VqtFmp12ZYKJXSLUFKrna1uoRhkcoCERKYESCCQhIQAGd7Le+/Ot3/f2feeu+987hvy3r33OzxO9tnn29N/7/O/3/725C8UCj69FAFFQBGYbgQC050BTV8RUAQUAUFAyUjbgSKgCMwIBJSMZkQ1aCYUAUVAyUjbgCKgCMwIBJSMZkQ1aCYUAUVAyUjbgCKgCMwIBJSMZkQ1aCYUAUVAyUjbgCKgCMwIBJSMZkQ1aCYUAUVAyUjbgCKgCMwIBEIzIheaCUVAEeg6BOylZn6/v2X5xklGuaz8Fw6Hc7kc90wmEwwGWyamAoqAItD1CAQCAWioin28ENN4yCidTkciEX/ADwdxAW4oFDKOrgdaC6gIKAJNEIB0otEoTAQh2ApKFTfVjaENMjJsBxPl83lSGhoaevjhh1GLUqmU0Y/qJqCeioAi0DsIwA8LFy4888wzoYhEItFWwdsgIxNvMCDdsWQy+cEPfvDJJ59cv349WhkJw1BtJazCioAi0H0I0Ge677777r///pNPPrnd0nklI9QiLkM68E42m8V92223veUtb0EB86KDtZszlVcEFIGOQwByuPjii3ft2rVu3TpoAQOO6azBHnXLYlOHVzJyIyIxOmVcRhUSHvJgJ3eDq0MRUAS6GAHYwGgt9NfcYtrGI9ez1tEGGRXywm3oRIaPcNRGpz6KgCLQywhARmgqdJvGxsZsbcgLH7VBRgZiRyvKGUoyPiSpylEvtz8tuyJgIwAhwA+Ma7m0gGMyyYjYuSA8w3n79+9HPyJVLpMPN2E7W+pWBBSBHkTg0KFDw8PDFBxawKSNg34Vk4GaQ9H2chA4CFYyPTWhIhjJIaXmyehbRUAR6BEEYAVUFjQjzEZ0pAxdeCl722RE1CYB7l4SUBlFQBHoKQQgI2gIm9HIyIhLF14QaJuMjE4EE+FAB0P1kj8dUPMCtsooAr2BABwEHzEbkbvRjPKF1vMQvZIRbGcSMLRHGqAqJFS6egNkLaUioAi0QABKGB0dhSIwWkMX7tUi2DiOKiIlE6nraJmGCigCikDvIFDLDPhASS0R8KoZER1Xy+hUQBFQBBSB8SHglYxM7K7GZRzjS1JDKQKKQBcj4LJEu2Vsj4yqYjfqkmpMVbDooyLQywjYZITbQCGezhKOJsh4IiM7RgbRJF5i1mX6TXDVV4pATyJgyGF8/OCJjEA14GenEK/CPVkLWmhFQBGYEALKLxOCTwMrAorAZCHQ9kJZo4a5nTUeyYqajSarPjQeRaCjEXDtyHSkXHfRUZod3YguVDPq6KrXzCsC3YOAklH31KWWRBHoaASUjDq6+qYq86b33VbstUFMj77Wv61oVbh3EFAy6p26bl1STIGch4dcPpdnbZHLI6zAZlOI5uERNrM93FA4zNU8oL5VBAwCbRuwFbguRkBmbzg/T5ls5uDBg2Z/LMrL/ljLli5zCw7F1LVByqy2gM99S2wy0MG8NH99eTdCdSgCIKCakTaDCgSgEp5hn/e///0nlK6jjz56YHDgjDPO4Aga3tZlIqgnEJTmxK5a3/nOd7Zt22YO1Gskj79eioCNgJKRjYa6ffTO6JEJsQSDJ5100tNPP83peJs2bbrxxhthqPe85z2//OUvG8FkSAoOuuaaawgVCobk6PNsi/5do9jUv9cQUDLqtRpvUV6zYzFCUFJ/f/9xxx23du3aU0455bLLLuNwvmOOOeazn/0sPTgEjIHpqaeewt+1KLGfFmdmsfXVzp07d7+8G7FYLIYdauvWrffeey8OsxMWDmNgapEbfd1LCCgZ9VJteysrS3/qCqIuffKTn9yyZQvqEgKbN29etnzZWWedxdnCMM5FF12E5/bt29/0pjch+alPferzn/88PvTsVh69kg7flVdeGQqHPvD+D2CKyuaydft6ddNVzx5BoH6z65HCazHbQoA+14knngiJPP/88wSEmNCY4KZdO3f9/Oc//9WvfnXHHXdw3PnevXvRen74wx/eeuutiKFJYWx67bXX4Km77rrrJz/9yZ133on+pWTUFvi9IKyjab1Qy5NQRjpWwVBw7ty5WLgPHDjA48c//vEzzzxz2TIZZeNg9UQi8fLLL/PWbDbqcg36EQw1b948xDBC0fWDrdy3k5AzjaJbEFDNqFtqcgrKQX8K1jD2IJiIFPbt24d+REeMxwsuuIAu2Hvf+14UH+iGbY8RwFqEARuHa3tC7JE/PHLJn1+C2Jo1a8zWyFOQWY2y4xFQzajjq3DqChCNRolcRsQyGXNnKA17ECZtNKBzzjkHc/UVV1xx1VVXQUb04JBHzISCdOisIfynf/qnaFKoUR9e++HTTjttxYoVU5dhjbmjEVAy6ujqm9rM0+EyvbNQSNoJU4cwA51//vkDAwOMoD3xxBP33HPPn/zJn8A+u3fvhnHgLEjKaFLcYaK77757w4YNDz/8MHZuHs0w3NRmWmPvWASUjDq26qYs46ZHRvR0yv7j7v8wp1/hvv766+fMmfP973+f1SGrV69GCXr22WfRj7gzdoa8MUszsoabsXz6a/TL4KDHH38cvQm2uvzyy6cs1xpxxyPglYyY1a8TQzq+tj0UwDUtQyKMf1144YUmECbqq6++GjZZsGABPkuXLr322msZUOPi8Utf+tLixYvx4e0ll1yC2A033LBjxw6Y67rrriMgY2rE/IUvfGHVqlWf+MQnlixZcvHFF3vIjop0MAKoyeSee/HKF/zBZicMeTrPiLiMYRIj5eHDh1G29+/fT8v71re+de6555Ke24I7GDnNeg0Cpg259cvqWXEH/OY8YdiKxkAHbfny5YODg7xiNA3VCc2I9vDqq68iQIcOBYq+3uY/bj799NOJkFcvvPACY3DMZnJVsJqU1aODEWDIAkUYlfmoo46iPdAGGEKlVYRDYbNgqBFdeNWMOhgbzbpnBFB+WdcKRxjWoNGYdmMeXe6AZYgSEzWNDNO1K7NwwUJaG79bGJtoiCZZmAj+gol4RJK+G8qRsW17zpcK9gQCOrTfE9XssZCwjGEcY4R2Q0Eihw4dgpLwgVyMwwzeI4lRCX9kCGuIyQ2IJJ6GvPCEv7B2GyYiHldMHYoACHjVjGhVXApZjyAQDMisIvsyHTF8jKZtXtEFs2WMm6E3l5Jch2k8Rt5wk6tn1cagPt2BgCjaltmoZaG8klHLiFSgmxBowhQuvzQqb0uBRgHVv8cR0G5ajzcALb4iMFMQUDKaKTWh+VAEehwBT900tRb1eCuZePG17zZxDDs0Bpc9GKkt7mrcoCSqGTUARr0VAUXgyCKgZHRk8dbUFAFFoAECSkYNgFFvRUAROLIIeCUjt+N3ZLOnqSkCikCvIOCVjHoFDy2nIqAITBMCSkbTBLwmqwgoApUIKBlV4qFPioAiME0ItEFGajaapjrSZBWBnkCgDTLqCTy0kIqAIjBNCCgZTRPwmqwioAhUIqBkVImHPikCisA0IaBkNE3Aa7KKgCJQiYCSUSUe+qQIKALThIAnMmLJtXtNUz41WUVAEehyBDyRURUGEFOVjz4qAoqAIjBBBDztZ2SnwZEjQ0ND+LDV8a5du26//Xbc0BMHQnCwRJZt1nO60boNmLoVgW5GwHz7lNDMQ+Tz37RpE6fssd85FMF+5951l7bJiNMg4J1EIvFnf/Znn//8501WTHqcUWNO1Opm7LVsioAiYCHAtw/jcEELxr1o0aKVK1dyDAznx0BJvLLEmzk9kRFpuBdsR6pc55133kknncQxfhzoODIywnk1hoxUM2qGt75TBLoOATiBy1DP7NmzObWRg4UhBDwNSQlXldiqSek9kZEdnm4a58qiknF2DQfyQVIcSEKqxoHexKMtr25FQBHobgRQTWCieDzOnSNk+0qXoQXKDl1wtQTBKxmRHlGjdKH+kCoXpEOiJhlemcP5lIxaIq4CikCXIcDnzwUTof5wyDCXecQHB57m3rLUXskIxUf6ZsEgZAQlYTOCdyAj0oOG8EFjgp6UjFoirgKKQJchwOcPMxgyosMELcBH6CtwEK/MW44FhUOaF7w9MiJ2YxIiJTprRA0TQUNGLeKVMRs1T1LfKgKKQDchAN0Y3oGScMBEcALcZPzxiYQjHEQ8aWQEdnWVI1QhmIiEEVAy6qYWpmVRBDwiYHQfSAAyIghMBAHZl30kepM4vWpGRAEZkaqJi34gyhhuCAgzNgqRa6AyjqrHJjnQV1OKgFsRU5qKidz+6bPTtf2PQDY0iSOGgKlZ+45qYrQTwxW4DUN5aQNtkJEpIYTnFhVKSqfTJAYlNUrMbpRuQHUcMQSOJP52G7DTtf2PWME1oSOAgF2zuLngB1Qk7oaDPHbQTFbLzOIx6ya9YmAnSdKGklylqSoeu1FWvdLHI4DAkZxpwY+TWyI7XdvfFVBHFyAAG7ilMG7qGibCzYXbi6moHMP4yIJQ+ZzMJ8rxTz7Po0kbHxOhG63rcJNUx5FE4EjiTxtwi2ana/u7AuroGgQa1S99tEav6pbdbzeauhJVnra8m5LxdF+xSM0N5Q+UG6jrqY4jhoBbR5OeYrHSrbo2SVDjpgHI2er+sq6kLWHSq2CGRNiojTXyb5TttrtpjSKy/e1m126G7HjUPXEEphz/MtsUMyspOp4B4aLyT9GU52TiYGkM40Jgsmq2pimNKzcaqBsRmMJlPehOIEbfPu8TtuLR/HUjjFomrwhMiWbkNXGVm3kIOCwh9CDWv5JaU/zJKne+Jd9+8zpfEjJlKdJLnYK5goECNKS/gnUg6nGvtsmorkqGJxaEuq96HN8OKn7OcI3DLVQnukomn4kHwkPJ4Vg4kkvmIBFfARKp4BEE3TIyfuLz5Q3p5HxZ/AsBeSsNoxDE3yyWFLtmNhsJR2EzIbRKjnNjU0evIdA2GfUaQL1W3uLiavbJCwaTAf9QwZfMMdWVQdpIQejFL5RkXfZibIilyDj+Qq4Q8bGhgwjnA9IXc2jJF2T0P45mlEwdFZVYeOFQlbCYFas6exGBtkfTGoHkDqU1ElD/aUHAu7paGh2DH3w5Xy4ZDL444tu2ZyiZHM3lC+Fwfx7FpxCoIiOmdbjlYvWRqEVwkKg7suFngV6boRsjVAhlM+EF/ZFTl/iiqdFEjAUELOuWd9p+DEKdePfexpqXTjWj5vj04lt4oeDLp/PB799x15a9B+fMnR3v6x8Zyzh9tGpAbBKRRunPO6YkmXrmdtnwNxSW94WCoTnDO7d/4fLz1xwVyWSyhVw2H4yyojuIkiSGKr16F4FJI6PJYsferYqpKblNFl5SQJ6JrNlsJukP78+Elp7wpoHBBFwyP+CDUEwtl+6i0hg3Ox2XIs/To4OS8BdqcvxlvbbDMzlfJNwff/b3wb2vHVg5OL8/lCv4g9lCPlhghwlsUW4kpcj0315CYNLIqJdA69qyOkyUz2bgolQ6FM/4I/lAhHvQnwuKZRqKkbIXmcdQh3M39h6nv8WN3hxSUJH00wJiRxIi4yrwCss2SxmZtp/PGaLk7lyOvEjp1aMIKBn1aMXXLTYzpzNsSpXJ+HLpXD5lSCKQz4XyOdltHTO2w0bOqFmVliSc5JCRuQdCMFZOzN38J5dDRnnoKOkLp4cK6Ugmm84EaH75QCgHYwV87D7hEFvdnKlnDyCgZNQDley5iAx+MUMDDuLEqawvBVP4ZSxM7n4hi/JFt8swhyEgozHxGn/DO7ilW+f8lX1Qr1CI8ulsLgPlpZFhTxpRtCoiLyejrl5CQMmoy2tbLDetLtinSkTsRqLYMJgvPTDpXjl9M9MdEx0JXydi6YPBJ85bIR3hLbxkZjVqkcSLo5QFbNv5UDDNDCbZEzSbCbDjhD9UYDxNJNxseMmzpKpXdyGgZNRd9TnR0sAkzuRVJjdi7jEchVuWb8A/hotEjYGDDMUU70VqqkjeGVYTH9ch4YmGlbTSh5NeoHiw1YTMltSr1xFQMur1FjDu8kMlqDDGilQbieNvyKxoXUKmNKomXCZaUkljKr6qUdBqo1WfLkZAf5G6uHInUjSZ39gkvL0KpIlY7SsIRzQiwldSDz61wurTUwioZtRT1d2ssA5FuDcza7Es75BFcfmhYSKZT0R/zSERGWrzdhFWonYuN4TsfIS9ux4fqf3IRanrHUpGXV/F4yyg6UZBMnSm3LEuwxf+yjOwGvXU6ibsMBHkI6qRGW4zYnWZqG4M6tmtCCgZdWvNNiyXsUI364MZk7Mz39pYhVwLNJEaVcVVWNpiIjtPbgbM5GxeManSCBSTcIbYdCqkDVp3u90m0d3F1NK1QgC+QVPxB9CDjF3ZONxHE97lIFeRcVScNsw9aEOiEDnRGTdOHHopAqoZ9WgbKCohTumFHOAiFuvDMdKDYgMQ27aDLYdnRIucwTJaHllwPz7szMRIdz6koSSxJMGEpTF+VYjGh21Hhxpne+roMvd45l1l2OYjFxP4xtWMjJtHcTgzhFwxHIafXF3JftXE3UgJQlcK5INmYa3MYfJsEW+Slr7qLASUjDqrviaW26Jmg+FHiMhlJXiFR8glWNq2UfioJGyIQZbi26aj8WbEMQwVadDYyE1M7N5Pos5+SEzddvxMX66UDfEyPiaA3rsOgXKD7LqiaYFqEHBIxzBRzTvjwTIOsyGR8ygDXhAHvadJowF/iL1ChHcME+Eo/ZFEKRUIyOagBnlV7y5DQDWjLqvQZsVh0TyDX5kM+8iGMyzNdy5zBidqEVeaFfsFH6vG2OSD1WnYjehVMYdIphQV2LmR0MIXxaOIjKLkDoaVUy4qPmWPkktIJuCnN8YhRuzVlsrnwuwHkM/6suhk/CdLQyT+4oWrEI2VGKoUif7brQgoGXVrzdYpF5zCQeS8GDo8EoklmMKI29lVCJVJ/jJ531h6LJMay4yOjopKVNRPxNAzSarKaDKZzmZYmBYIBZPpVNBZCscoXiAYg/SK/MbMJkhJFuf6M7kCMuTTzLGsUyr16hYElIy6pSYblYMPWThHtJV8LhAMRzKpZCgSS5Zm9bBnmpwEIiNkvgwbq+XyJc3I2X/f6CloRrKxdcWFJsVzW3oL9ukQKlY+Dw0NJ0cTPn8Ym3UoWMiFCoGwKEZOChCRnHiEUubz9cuOtMWZ3xXJ60PXIaBk1HVVWlkgLDKi1zhfOZpQ1u/73ZZdhVh/WrzZTMhHdwwrEQPrnOiRzyb9uWQ+M5YeGXs9N5bzh+gwIccSDpd03Ngq02n45HbjcPA30BcPBcP7U/mdBzK55FhfNJKIpoLhZNp3OCO71JIO27FJPw2FKJZLnrVmRUj6b8XJlg2T0Redj4CSUefXYeMSoMxARMJHjmbETJ6RvO/Lt/56zjFr4ZlgMBgNhcfSmYxYqAOYbQK+bJgBdsdowzaMffOWxCPOiULEQ2DRhCRCxHAQhLthDlGrhEEcCXmFXRp1BgpxjN9yE1JD3xkbHluy4tgnX3x2x6tjvOYQpGCWOUb+Qjx2aHQ0GutDNQvG+pIjo5mR/X3JA6f+l8uxK4UCITIg0erVvQhM2lFF3QtRB5cMMhKzsyhGWe6FbOiQ3/dM2vcPt9y/f3Roxapj4gPzRtO5WLyPQkJG/LFdrLOlUZANGbP5QigUhshC8EAh53KBMeIUyUi2ohWOQKuhP2XAwifoTBYyZBQUI7ijYQX8bDHLgFpqbLQvkUAKMeFJDjYK+sZgqxBE5tv/2tjG3z1w7JK513zgjQsyvv58ikNFAsFiQh1cH5r1pggoGTWFp5NfFtUipwjoMnz12RE6XtF9Sd/BgO+ezTt+dNcDi9aeMXfR8kA+Aw0hyEC+7LqIrZhNq1FuhMcgkoIhI9yGdwwZOY9CEMa03JKMiBAz9fDI6OCsAV8uG2GTR1Qn2aFfFC3Os5VdaGf5nnvq1Zc23ve+t5997inLIqnsnEA+6s+H4UQlIxDv6kvJqGurV9jF6VVxh1jglWwqy18+GHo9mTscjT9/yHfzz+7dn/KvPWE9MlAPShDDWLIRo8Mx2Jbx55EelunoFcmI+Jxpk7BJe2QkBMQ5I4Uw5nAmMfmDjPGnAwWsRbFEYGTM99CDDy8ejL7rzDULo+n5sWx/yBcPxThcOxQK0ak0rEeW9OpKBJSMurJanULRZ4IyuJtt0tjpNZdj0D6Qy6XyhQNjuYPpwN6h9GPPv/rrDdtWrT991uw5hazM/gmG/ExEEu2IE2KdITPIyN6xyOqOMTFITv8gvbJm5NiJmNpomIu7dNLofeERZHwMcvMZMsIt510nAkOp/HPbX3x5+5a3rF/y5rUrE4FUIpDpC+ZioWA83BeJxCAjLomkdNnukp/+29kIqAG7s+uvRe6LNpyigiSW7FCI8zlQc2ZhnclmA5F0/Jh5C+cv/OWDm4djs1afsC4Y6c8WsliLuZiCxDdv7NZWQqhcZVKw/Fs7SwZuZ/lb0B8JY0X37dq1b9PmjeGg731ve+OK8FBfau9AIhIN+CLBAH2zYEgUIrLBnEgxROnVvQioZtS9deuUDIsMX3DA6bOlMNXkC7m0L59xDgxiBuTo8GgyNZQLvjoauO/xHU/t3Ldi/YmxwUE+/iA9I4t0jGbE5CTRkkr+0k3zrBkRCm4x0xpzDquEI+EXtu14fNPms96w+rRjBxPZA2hDcxPBwT5UomAokgiE0Imi0VAkLJMgi5fRicy95Kf/dgMCSkbdUIuNygAFmdE0sU8XChyEBhlhrRYqQkHKjGVGDjHfGqPyqD86Epr/9CtDv3jod/2LVyxYtireNyDKCERGWJZwOAQkMyVLblgJRvD7Q3W7afAU+gwZwyCOwdvpoTlkBDH6fRnp2eWffPS3o6+/dvr6dWsXzxrIvdYfTs+e1d+fiIX8uVAwEoj0B0JhHGGIqTgdUgpqaMjcGxVc/TsRASWjTqy1NvIMH4lS4ZCRrDtjiZmoJRiOmOKYzjEdeyw5OjY2kkqnCsED2cCLh9N/2Pbys/tSi45ZNzBn9mAiEcqn4LJCDlrz5QLwU94fyNFrcsgII1Ak4Ni5YQfDPojhdpQmEmIhWkH6g/QPI7FIhDlDYkt/Ye+hx377m7NXzz9uTmzVUf2DLEDLJPv74lxMfaJPRu8sEo4FQjLmxhicpCV9NWE3c9nukp/+29kIqM2os+uvZe6L3RtWyctCMzEAOdOIIARZieYLhyMQhrOGPpDk5Gl/rj8XP2nlgr1jDzy2Ib1idWTZikQ0ODY6logmZMDN+XP0I3Qu5kmKxlLuQVm5gbGIlVewRiiKPTySyhVGDydZpvv8c9tef+XlC05ftzyeXBBJDfiHozl/NDEQj/WFg47hHOqCvIIRRtBk1rbku4KJrHTU2T0IqGbUPXXZvCTGJu1QUlGQI6xZu09/DdtRKpUaGxsbTSUzAd9oNntoLL97xPf/HntxKB874cRT4okBZ6chGGYUPYd9j3K+UM4f4TDYWCEXdvQV2MLWjBhjE+XF6dMxdykajaczvgOHhjdt2rS4z//W1QsHfMN9CX80nB8IhaP+EGN54VAUhcj8F5RVdFiKICNZzl9LRhK5Xt2FgJJRd9Vn49IYMjLvDSXxlZsLSirx0cjQyCGm9TCviIH/nWPxp/cc2vTMrgXLjz9q6Srp8QVGff40844KvlDWH2H8Ps78bGfidRUZOd00R6lBEyv4Oc765Re3Pf/MMyefuP7YuYnlvgOzQ8nYYD9m8j6Z5R1MJAahHzPTGg6Ck5joCOGwgJc811JPrU/jouubzkBAyagz6mniuYSM3EhcN6zEfyzTh4ygJPSjdA5nOplit6PA8OgYlPT8wcLju4b25waXHHt8/6xQOnOYuUgMyjMbiXUexGl4wSYjrDxoNMSLBOvPDo5lnnn8scHM62etWzU7HhmMh2dHsrOigb7YLJSfaCSPiRo6CgXRkGQ+N1EZ/YjI3ay6mTcOJaMqQLrgUcmoCyrRUxH4qt0PGDeXGwxjtstHDPrzkMnAT8lscuRwpvB6OvFqOvHgky+9+Nrho45ZvmzV0aEop4jkQrlcgcE5GduXHpNNRrjp0fVFo7nk8L69L2/fvv34ZQtPXBxblPCHMmmGy6LxSCyW6A/FI2E/S3EhI7+PSNGQfNAQnTIzQke0dj7dDJvk7Ed1dwECSkZdUInjKYJDRxV8lM6K8cjZUiTny6SwKKVy+bFUbiiZHU1BXYktu1+/b9uu/OBR81cek0gk+gu5aID5kbKsgxzYZFQQ03YcOnvq0Qcj6f3nrF++IBGYxWCaLzcYDcZisWB8FoNlsWgwHGbULCr9MpkBgEIUoINml0fJyEaju91KRt1dvw1LV0VGyKHloBAxhJ/PMvyfZp+jTD6QzGSl78Y+I8nUSCD+Yjry4NM7nn314MIVRy9duJDNiVChWOBBcMhI+mboTIzR+QqH9r265fENKxbMOm3VoqWxsVmhfCQhnbI4cwEikUB4li8ULpFRgrF7jNxYoNhrrSrHSkZVgHTxo5JRF1euFM3+mOELU1rbs6r8WI7otUFJshG2mJPyuWxuLMlQ21gSLSlTOJwPPb7z1Q07doeOWrL82LUR6VGJvRmdhlH4dLZwOJPZ/dTmuYdfOHP18mWLF4R9uUTYR3+MSUaYqxPRCAvfguGYhMEZYm8QWbsm05EYwXdyIybr0kUDLTk9/euW0ZO0Cs0kBJSMZlJtTEFebN5xP1TbszZNtn40Vm1DTOzSz3/oR1yFNLO28y+PZg8FEnc+sXXvSPYNb3hj/+x5WRbh5/ORUHhk+MAfNz5y/JzI24+bN9c/So8MqorE4tI1CwbRiXCw5BU3l6yUk+WvxaW2tTnBR8moLixd6alk1JXVWi5Uc94py9W4zE7YGeYi5eivZcfSqVw6G8C0nc6NjGZTodj+TG7TS6/9fvu+weVrFy1bHY8Gtz67ZWTPtvNPXLEymls2EC6MDjGjejabAcg6EGEidCIuM15GgszJhh9ZGVKrELnZUTJyoeh6h5JRl1fxuMmIgNim09JRY11tNgUJMSMync3JFIDMaDrD9mh7k76th3yPbtt7YDiH8WjZotmnrl6wwndojn+snx6YzHWUi5NIDBNBSahCLuLhaLw5EyGpZOTC1fUOJaOur+LxF1D4qMB4GTyDdpThnLN8OpNLw0WYhrKjmRQ7Rw4H48PZ4Iat2wf7+49futTZhygT96cj7C7rZ7CMflmc+YuQETTkmJfCDNwzfE+2jG2ocjWJsRBVm7HHXwYN2TkIlH+mOifPmtMjhAB9KK6IL8y2s7JAtpD1BSO5YDYYSKVyKZgl6svHctmBYD549Lz58xb4Do9E/b5QqICBOsoIGdYisRHFICMumVEtC0YqyecIFUWT6QAEVDPqgEqa7iyyxJb5jZi12StS9ojNSmdNtrDFnCTaUsHHrCSMQrISzc/2jH5Ri1B+QoEww/dxNieSeYxcUhBnQ6PisFmdgqlmVAeUHvFSzahHKnrCxXS2Jwr4wyzxDzNNGrUHU3QmGWBrfZ9/MBESo5Ic+xqIMos6EEAPYkvZcLS43GzCyWsE3Y+AakbdX8cTLqHYdvif3Uc4e9bPhkSoL6IqpXIMsDEbSXyl88XQG+oPs4ZgKhm9jzj7gTi2ImxPtdlgYpF4qoGoFpqe9FEy6slqb6/QRTIyOxfBKrLNvxyHzezITIG/MtEIJSHtGKrhIw6tdlfv10lSyagOKD3spd20Hq58r0UXiimbnVFkOB6E7WdFpQmiEpXJyDmGhH6c2IeY08hJZ04S+EgMlm5U3JnfvHZkZupNiLjiKh614vgbd8Xrmge7jBYCRTn7bU1QZ2uWWt+J+dgp1uanNu6JyNfG1tRHyagpPPqyAQJwUHFcjMOMKjUjRu4JxBYBTFPCbt0gAvVWBKoRGCcZmfZnxkeYBMejLE3SllcN7/Q/mzqaunxIN6xMOI7+5DQDyIhEy/oUD46YaTnF9mOyZX6fnVA1ekjbkx4no6SsbGF1HoYw1LuQWQbs2Mms7Bb5t7VqYUu4JzWVM2m/Lvu2ctmhyuC3CuW8rwhqPzQIbYvUyX9NqFQ6zTRX6nccDW88NiPYh0n9rFQy6WE54CJXWApq8qYe04zAONqE9xxLm2MH2vLl7P5RJKPyvmvmPfOUcDBLQB4dd0XeDBmZT8vq/lTGb2Ka6rtQovnwWP7rJlbMLXnDZuZO2LSy6kpWOWp7qVUCbT3Wko/NF16iajc/bckjjF7Cf6xw5F5Rxa0y1wYZGbbjblShgwcPbtiwAVbCh3VM/Jq0SkvfTwMCbbWGdvNH1Ztjr4sBnS/TbG/Ebv14mlG24lunhXA0pPjXkJEJZU5Vq9CoOE7kyF7m1MqShUtaNcUsZSFg+5fyWSasklj5X/urqJWz35bDlFy18uaNraGUECuFafWvnWKj+O042pJHOJlJz549+41vfCOjqVwMYvCfHWETd9tklOQMCX4X8vlLL71048aNJ598slGI4KMmyeir6UJgqskIy5BVNKd5W5oRk5PKb41mZDSpGjIyvSHzI1w8j9sJOV2a0e8e/u38+fOWLVsyf/78w4cPlzjX/X5Nqd3HcimNy/BFS6awsauOokR1tf4TISNicxNtmPvKJL3L531yJN/Dv//db37zmzVr1hg+4m5WR1fGWufJq82IHwcudCIpjHOexOjo6I9+9KNzzz2XR/iIt3Wil99GqznWlVBPRWCmIOB+d76lixfedNP3zj77bLGFcj4B5znJXrq05/LvvBxvySW9tuqrCRnVka4OXee5EXF4ic0OOxXyFufy4xN997svefGFHWuPXwNiXBQGM44XG45XMnLhgXqI2vTLTEruK3UoAt2GgBznzeZv/NDCQxw2h7ELVhI+kv5a0XhU/YHL9+f8BNu/w+5vtURiv/AAWalvWEfUU2xu2pa21SwPbcpTmiIfFeAThlfz7DSDTTlmWdzqZL3Gqw0yYqSW4GabG8NHJjZDSUpMNdiqR8chUCYJZpHTpJ0pm5yX5Ez0dErD/HK+N9ORlC5qPbWoutjOt+32EHhyyaUZI1hiRFjOWWXsdmyVbxo+majcPDSUK71oKS8Ko1NGmaQfkCkdcsBMMhlgL0/2Pfd8tUFGJk5oyFyoSMaHDhqVpt00z5ir4IxFwHxSkj3OlKNJy5ZO8qnZGXaavfEpi9sClW5XBkdFPCLmnREqIx3/k5sFHG7WmkTnQd7uBYqxnwFTWUidSkFGxGxG+psk4b7ySkYoRFzYjLjYDvnAgQOQkaQr1SYDvG6M6lAEOhwBoRu+ML+PPpr8IxpSiUgKjT7hhmP8VifOyLjftwNT9adTUrWcL8r6zu0vzHUTVUneicySb1gHVn4q54E1CNFSnjn4JqikDhOxTmho+GAyOQLXMqaK9ZrliehKLbUkL7mvyCQcBCsZy5GwoPPbwb1CSB8UgY5HoPgROqbrOs3bax+tBgebfWx3laBNWQ3F6BZVBTvSj4ZAuBf/RDVxjnPgvHQUl2xGuEJYwrma586rZuTGAhPRTTN311MdikCXIgAlOcNnJT4o/etQVR2OagqDkXctLE1leVlKy5Erha0NVOYjL/kpS1fGXxuv8Wkqb+zWprNp7F8yH5/NHNJp+k9sJBOPRuEKlCOUSxzNlaPxaEauzUjUV2Pic61zjYqk/opAbyLQsPvWAI5Ol3eKJQcSp9OYjRy7jnP4FdqRox81KLZ4e9WMiAhiIwEc3LkIDBPJ3Rl2kMj0UgS6EgGxQtTTOmpsQEZT4OylMgxi07EeeWHHVNQ7bIHiUJ3EYCSNjKWhlM6XM4kwyF0MbotUpFIScAJY8VcEMLGZe4P82CJFt106R1tk9qrfPzZ2GIqYNUumH8o2oYUcpwUzX4uBLhmLrMhPOVI71bJvE5chIARcRxNhfaUIKAJTioA14XBK02kj8oo1QKVwTHpkd9DmpOFVMyKW5hGVEtV/FYFeRMAmBdtdYfeZMDB2zBOO7IhGIFTkLFdskmp7mpEoXZUXUTv2c1v1bJKcvlIEuhkBjLjGjtvNhWxaNoceZPiMq0qwpTbjVTOqirf20U67Zaq1wdVHEZixCDhtu/hpVbTtCpuL/K7Xm8TY9Pe++oMVE2wZh1L8KETta1hWPOUYJY8VT60fvMqbsmcNERXpSIqHsmJAA8YK9GqS9pSSSzQ4zKyBCoejGtXErB6KgCIwCQh0VtdMmIH/ncsuPB72Y123JzIiJHuJell3WzcN9VQEFAFFoCUCXsmoZUQqoAh0JQLYgI6cblLql3Ulki0LNSGbET1ALpQm42iZmAooAp2CAO1amnVx7b7MZDE5tzsbWKvxdHxkrbq4HamG9p1WXOMEr68f2IRo0mqBZMM1a2Y2UIvQHl87JZW1aSZ7xnjvumV+kdM7k06b03kD0SYx1y95kwD6ShFQBGoQmNAXztdr/mqi7RgPl38NH41vSFHJqGPqWzOqCHQ3AkpGk1+/LQcOWgqQJ0Ytm+fMSyTNY9C3XYtAqTckjQR36XGqysv5CpUTrJxhfm87z1l5UjKywJgkJ4e0mCWCZtsEl1ZoGbjZeMpLOvSxjRhREdC97LAeo7KDqHvSEcAK4hpC6K24HRbvCVG5bIVRXO/pbCfvVrc/GPJHov7QOGy7gWRSVpLKSQdTRkac0lnsYJZMVLLjimM+Ez7K5+QgA+eV5ESmOJm/+tiMo5D1I1JfFwEM+q/ve531ykNDQ3jKNHjnYqUxBrylS5fOmjXLFW7k4ICXQ4cO7d+/f9WqVU5FVgsSFTK82rFjx8DAwLx586ol9LlDEAhEYxiBc8nk9u3bh4dHOHUsFoux2wa7ASXHktlCnuZz4vr13kvDjx7tLpZI+PJZOTMqV/xh8x7D5Em6Cn5rvUfJaPJgt2L6y7/8y/vvvx8PKIMdV8wb3HDHz372s4svvtiSbei8++673/ve9+7du3fBggV1hVCaaLKcCfPd7373Qx/6UF0Z9ewABGQvbf/rr7++Zt2ZbJ4UDHIOoi+Tla23cQdCbBDkGxs5QEGEY0pjdvXKZT54ie2m79500UXvWrxkET+GPudQn3ryM8tPyWjy64Me1g9+8APaFtQDWaxfv/7qq6++6qqr4I54PL5w4UKPSZ511lk33njj4OBgI3l2F+bVzTfffMoppzSSIQ+QYKO3+LcUaBJWX00KAvl0OhCNoi8/+ceHs5k8jp/89CdfuP6L//L97x1//PEDswcPHDzoJuTwkatluHoH711PHPnPfvazS5cueceitwdaGR/dmKfdoWQ0+VVAN22ZcxE1nzr3RCJx4oknuik999xzixcvZmPg3//+929961uN/+bNm4eHh8844wy4Ay0dTzpf73nPezAz4UOXbWRkZOGChS/seGHnzp2wD+d20hOE7N75zncOzBpA3pV55tlnXBn3SE9MEs888wxxrly5EmMT/7lH65lMmmw0Zy4j04P3+pagZiTfBkgcmO1LpePR2Alr1vrC0VwqteroVWhGK1asOPXMN6VHDq9YtoLdW/fu3bNly9Zjjz2Gy2jbNKFcLj8ycviRRx7t60ucfuoZ4VAYM86WLc9m8749+145NHR4zlw589nNTdMfJldq0hwm6eK9vPNS/fiVjOrjMhHflutmoJIvfvGL3/rWt6AMOnEPPPDAZZddtmfPnv7+fo7GvOhdF93+r7fDFPi/733v2717N3x05ZVXEi1Hm9L7kwNOA4Ff/OIX559/PvmcO3fud77znSuuuOIjH/kIrRNGe/DBByEmeAoZTtlE6//jH/8Ir+3atYuoOHoYcqRBkwFz2qfdWCdS8K4MiyF2kjinbXhgFhOGYY8bvv6N667/6pyB0Oho9vTTT/7pT34yd968bLbwD//w1f/57W8zZvLKqyMrl8xDpYpGw6eeejYB//PHPv3wQw/ffMvNbSc8TQFc1W6a0u/JZCEgyAh7EKcAA8CnPvWpU0899ZVXXjl48OCvf/1r2tOdd95ptCEk4Z2+vj70mjvuuOMNb3gDvb8NGzasXr36n/7pn6Abgx/9NZQphP/t3/4NFYyoHn30UX5Xv/71ryNDWLSn4447Dl7bsmULjnvvvReyo61z6ZDcjG2D8iORy/EDc/vt//rlL331+zf+40u7dj67/alUJv2+9/9FKJrYuXvX337hK//9K197ee++3TufO/WM0//r5z53/Np1e/ftRAu57Yc33nLrrexZP2MLWJUxJaMqQI7EIxRA7+yGG24455xzSO/Tn/70t7/9bYbDUHnWrVsHDTGqwh2KgUfoi+FmhAXzwVe+8hUcp59++gc+8IGNGzeavPIWwqLhIkkX7Mtf/jLN97TTTvvgBz/42GOPIXPXXXdBYTfddBM9O5joG9/4Bp4YsMxgnIlE7zMQgdGxURkdDwb//u+/fMklF11++eWxSHTpkqX8kj3w4IatW5544YUXcnnflq1baQGLFy265eabv/HNb3J6Io2BAf1Eom90aIhFLTOwaHWzpN20urBMrSd9pbe97W1uGu9+97vRaH784x8zcPbUU0/RkhDgLXzhyoTCIUbN0GIMg8yfPx/q4S3CRp55A1jHkcETN3yHDF02Hrdt24YMipIJgj8kCGHxSogs2GIzUMR67BIDsFNk2zxcD4OyKabe2/H6QR780T2cLaZA//DQ0Msvv7b5sU3vuvBCfzA4NjaKRksW9+3dc96553zoP136ja/9jx/ddjvK9aWXXPqOd7yjv39WcmSEsY1kciwxe5At6ysNXlOTabGfC1yVahjZbEPdUTIab5OZpHDwC1oM9PHRj3507dq1GHSw5tAvI3rDF+Y+7tT4nSRyozoRCY/ceXQjhI9ctzpmFAIY/vi1QTnGXM3Q6nnnnTeSHIuEpW/O3JFVq47G8d3vfe+6v/1bfswYDGHElr7/zf/7Fmp5OCmnJ2ZGx/hpi5RsT8jP5EvJaJprZ8PGDU8//fR999335je/mX4ZPTWjztTNFuN0df2beGIzWrJkCeake+65x6hjaEmPPPKI0aGaBNRX046A2ARDoXmLls2bm9i3b9+ll/4FB0ajNT///PP//M//zOAGg2i/+tX//bu/+7trr72WH5Wf/p8fX37Fh6+//joGKPrCPvr4YRQkJjHRl+uEq/wL2Qm57bw88uU3zzRj/DQd+AhJ+lMMq6G2mP4UDloYA15VMbhx2rZn1xNhOwhq0YUXXkgqX/3qV3/7298+8cQT9Arhpqo49bEhAs7Cq4ZvJ/1FaZNWImbXDZmvmBn99Gc+/eCDD91xx48YbKUSL7nkz6lHBJhJ9PWvfxNTET36cCzGyEY0Gph/1FGwWDQaZAYJJ97nj2RdF89oqssqrQmxbrA6AOfFjtE6ujohe9jLEATachUGDOHT+eLITQQw5TAkz4DaokWLsExfcMEFf/3Xf/2Zz3zm5z//OWTExe8bwWltuN0uFW6mHeXyHEclbEVsGLahmGgkSjXxliC8Imn8sVujxrOyBM2IeUzHHnssnUHoqSpX+ugYOMpfhNhunGVWIOMswmIdVvmtAxeP7t9k4ZeFhfL5DEs4+vpi2WzKFwp+9KorL7vs/R/72NUL5i99+wUXrVl9/P+6+eZELD5vztxPfOwjV3/82uVLFx81e+Cmf/mXb37zH/vnzJk9d/Cid77zy//ta9d84uOy25BZMmfuk5VNJx7wMX8mVtk5pCCr1YAlz3wnSuL4FNP08xMIhzSkEVmgUBRt/A8y/MDyPUDMfAOMQHNdc801TFRhGgu/z2oEbQyevHEJAjdgcsEUXG4orAMvvfQSA/YYofFED1/lLEljMreNrfk9MFzjhoWtRJ93LgQIYna7IxUkTe1QfRCT/H46Bw0zKfyTn/wkK0iqonLj7G2HfDArliy+9Qe3nH32m4OVBn6XnqYEIppEoYDFh4kaGefAVLFVB5hEnc/mczQSdGfGH447bg0+1GY8kcikMzt2vPDSiy/19feddtoZVDdLa/lxCkTjr7z04tw5g+F4DBWrnFsP33tZuA0X1AMB+SDRd73rnSedchrjxfPmzps9Z/bgwBxsoDRs5pLwu+lEWcXpxWTUZtQG3uMTpc9lK0dVNGTiZM3HuhPWMVLGIxoTaguhhGKcWoNWjJjhDhoclOPGiZjQm0M9CKQyKYY0MD8ZT+Jk2hHUdssttzDvEYF///d/37p1K78isjGArFuqyN74yqihJogAlUUMzgJXMTzjDjuDGFQPvEObwRMaop2gCNMA0pm0/G45oVCuj1u33pdJy09RIcddMpNOLVy0yBcOYjqSR+uXTx5n5KVkNIXV4vxMycJ6W3kx6ZnGZ5Qj4zZMRBB+1lyiQVjMkI4642ZUJLPiLz+AjoHJOIwANGRMTsYwRFjW2V533XV/9Vd/xWgdj8x7RKVlwpFJl7BuzOqYLgRcNVkcTo0kh4ehFRiHKqamiv6ZDI/5HCJh0zDERO1YFWk5ZN5tOfAak4+EiY4IDcl+RhZ20kNr//LaEIGDq/34ezqEGfxy+1A2Fm7jw9N2QzSs3rAlXcXHeBphI2Z+A102cSvIGLBdfwJ+7nOfYzCY2Y+smWPyJHeTLkHs1O10e9jtqKOyC4/9fR0JPKQuDHdks7I+ETcfnakhPr5M1ozrO03En8eqxP8wk0w4k22LxIAl36hkWwIVpnyYosaIRg6wIkkeApiT5E5WSjAWaNj1O2gE4PJKRkZa720hwI9YW/KNhGlYLtHYMra/LVDlzyuu5cuXf/jDH7aD45Ymq9eMQgD2yWLDLl2mgupVk926qN9SgJp/HTqr8Z1SjxL7SCKuu/W3oGQ0pbUyIyKvZRzabq3njMirZmJCCLhf/oRima7ArelqunKm6U4uAjb72O7JTUVjUwTGjYAnzaiZEjjulDVgOwjUpY+6nu3EqrKdjIDpuzkdtO5oCaoZdXJz1LwrAl2EgJJRF1WmFkUR6GQElIw6ufY074pAFyHgyWZEedVs1EWVrkVpjgBjUnlZY8WeQs5cPnf6w0z86a436t+8eFP2tnYsD8DawKwN0Skrg0asCCgCikA7vKVoKQKKgCIwdQioZjR12GrM3YYA/RBnf4xuK9fklcfwSV1Wqe3EVSfr1WZEODUbVYOnz92AQPOPhO+KP3uxhdmvx5S8ediJo2OnO/HYnBhcA9jkxCcI2JsW5R1DmwOarEuzX/lkPyOTfF220m7a5FSJxqIIKAL1KcY7LhMN7z0llVQEFAFFoAkCSkZNwNFXvYsAW/pahdfPxALDg5Md3saxQqUNm1FtHtjHiy112BdVV4HXgqM+HYuA2EE4UGM0xSFBefbjj4b5TIp8ZFmJ8vUoqtbPCtGxiDTOuFNey7SVy2WhhZy1C0rJ1sxeS1O5nxGb8somzSG2nsNu1TjD+kYRmLkI1G+4sr9i3t/XP5czMQsZOWyu5gqyE5q1X495X2sfrvWpiamDPaR0xQO0nIFG9oQTTmDz9fbP7/CkGaFxuZeNGzvyohZJboKyZ7j9CjdB3HvVK31UBGYMAtXt1vALv+ccupJJHSafgYojWV3yIqBz8IZdEllDj4Adp0VG7p6HdpCJuce3wav3NGU4rMllNnUrmBkPoiCFQpFsNl+lHBkqaBKNeeWJjOxYqCQu47N79+6HHnqII0M4e8fsu1wlyaMRrqUqW9J2u5HbnupWBKYKgToEIVTCUZp79+y5+567Z82alRwda5C6TToNRKbee+r4qAUTlYpWnHvlHJoWDIY3btzIEaGoSHJKjS/okYmIrP5+pqVUiv9CEHANR6NwiApHntI727Nnzx/+8IfbbrvNaEyilTkXYgjjae+JWRWbPioC04uAPXHRbCQfcA5EM58Nd/a6z2RT/LxzvmYhKy1bzlN0LvvHMlBlNWq9bTZ2E1exml4MJjP1ZEYOy4J9uGc5bCYS+Zu/+QRnlvQPDswenN3fP8BRRbxiA2/73K3aHLStGbHNO6nSQTvllFMWLlxo6Ame4oxADufiMkqQklEt1uozQxCw9Rk2kCdXLg2JW87K5CqYcw2kScsvrEtG7gbVWJUccinrVnln83kibMA4wkSlV15YqRxzQ+Q8Ki8Nw7d64UXtCnIiWpjz2WLQ0Lx5s+PxBJ8/RAH/hML865VkPMmZyjF3Ms9xKJygAh+hB6EomeLMmTOHHxBqztGQ7GHRVsXV94rAkUXA1ozM2RWo8mSBFl6+O0driMrPKXVhFKMiGXE0mZVZQy4uuRkyst4bZ5l3Skwk/ra7JkjRw425kcCM8Dc0ZO4Ds+fCPgsWLSlw1HEgTDeNLLrU0Ty7nsjIjYIqMfEaPsIN+ZnDmlGOYCLoyVCSW3luWHUoAjMEgQoyMpqRMyBkU1Io4H5CgQIj/CUyshp2qc9Vob/U8FGZiSi9RUAV/g2AqYi5gcwM8OZ4LXiADhOaEXcIge4tnVxRikIhQ/FesumVjMyB7iRJZXCRJLHTTeP40/2v78eHtI1axN1O2HtWTKh25e201K0IeEGggowafPDBEnFweK8/VzatVrZPQy6W/tIgtmKuKgjIIqaGmbZibigz/S8C6ECBAAoKrDRnzrz+vv4wZ0tG4/yFQ9FQMEKnDYHmBiOK4ZWMqAP4iPTgHdxcBMYuZVSkuWNzMR5BQ1wy58jpeI8PJBPz+MJqKEXACwKVdpb6H7xrK6HBy7mEhaKY0Z6KqRhyqSCg5gYK63jOCmJqkOuKmBvIzABvh2cCmI1EP0r0CRlFMCHFE3HRj3ALT4VaD6u1R0Z0wWy9i0EHGIoccDECiunaHU2DU6QWS5ftLvnV/1fJqD4u6jt5CLQkI5orZOQ2Wr9FHJXts0YzqphhVJtjWxuy3bWSxqc+UTaSni5/0YuwD4XCzMyCkyAgBs5icXpt8BPqEkREZ6117rySETFRDWZ8ATfsw51U4Sa0IZiPR2MtgpIQI3umLu07Mi2vyspuKa4CikDbCHghIx+W6tJRl0GnA2FapkydKV9KRoIFHzs9NZQf7j6/aCcMonEXhYiD2Is6UVk1KeNX6arQXypf1XmieuiFZbIZCMhQD3f0I3tOo2Ef26dOROqlCMwMBExznRl56YZcoJ0YGkIjwbLMnQseN1TevITtkRFxUXkuExnGIRkcdqXa7ubJ61tFYHoR0F/NycUf6kFPgpKIFs3IOxMh30Y3zWQa6jEp8WgqkrTxtAnIdptQelcEZiYC2lYnpV6M4uPecXC1xURko20yIgzJGD7CwaP0GP0BRkDdUmkFu1CoY4YjoG11UirIUEGREMwM0uJEdtvE1iKpCo2mhazz2q48k7YJZft7iUdlFIGZgIDdhmdCfjo9DzYPtIvteDSjuni1m3DdSNRTEVAEOhqBifCAl8kOHQ2OZl4RUAQ6AwElo86oJ82lItD1CLRtM+p6RLSAioAiMC0IqGY0LbBrooqAIlCNgJJRNSL6rAgoAtOCgJLRtMCuiSoCikA1AkpG1YjosyKgCEwLAkpG0wK7JqoIKALVCCgZVSOiz4qAIjAtCPx/8WcopyinXRgAAAAASUVORK5CYII=)"
      ]
    },
    {
      "cell_type": "code",
      "execution_count": null,
      "metadata": {
        "id": "Ui2TOwEOFgvb"
      },
      "outputs": [],
      "source": [
        "from sklearn.model_selection import train_test_split\n",
        "\n",
        "X_train, X_test, y_train, y_test = train_test_split(\n",
        "    X, y, test_size=0.33, random_state=42)\n",
        "\n",
        "print (X_train.shape, X_test.shape)"
      ]
    },
    {
      "cell_type": "markdown",
      "metadata": {
        "id": "bM5rwQPyFgvb"
      },
      "source": [
        "## k-Nearest-Neighbor Classifier\n",
        "\n",
        "\n",
        "- lazy learner\n",
        "- Nearest-neighbor classifiers are based on learning by analogy, that is, by comparing a given test tuple with training tuples that are similar to it.\n",
        "- Scikit Learn:\n",
        "    - see https://scikit-learn.org/stable/modules/generated/sklearn.neighbors.KNeighborsClassifier.html#sklearn.neighbors.KNeighborsClassifier\n",
        "    - by default Euclidean distance is used\n"
      ]
    },
    {
      "cell_type": "code",
      "execution_count": null,
      "metadata": {
        "id": "JTTTR29JFgvb"
      },
      "outputs": [],
      "source": [
        "from sklearn.neighbors import KNeighborsClassifier\n",
        "from sklearn.metrics import accuracy_score\n",
        "\n",
        "# Create the classifier\n",
        "kNN = KNeighborsClassifier(n_neighbors=10)\n",
        "\n",
        "# Train the classifier\n",
        "kNN.fit(X_train,y_train)\n",
        "\n",
        "# Generate predictions\n",
        "y_pred = kNN.predict(X_test)\n",
        "\n",
        "# compute Accuracy\n",
        "acc = accuracy_score(y_true=y_test, y_pred=y_pred)\n",
        "print (f\"Accuracy {acc:.3f}\")"
      ]
    },
    {
      "cell_type": "markdown",
      "metadata": {
        "id": "4tXkN4wAFgvb"
      },
      "source": [
        "## What's the impact of k?"
      ]
    },
    {
      "cell_type": "code",
      "execution_count": null,
      "metadata": {
        "id": "632nneZpFgvb"
      },
      "outputs": [],
      "source": [
        "from sklearn.neighbors import KNeighborsClassifier\n",
        "from sklearn.metrics import accuracy_score\n",
        "\n",
        "for k in range(1,11):\n",
        "    kNN = KNeighborsClassifier(n_neighbors=k)\n",
        "    kNN.fit(X_train,y_train)\n",
        "    y_pred = kNN.predict(X_test)\n",
        "\n",
        "    # compute Accuracy\n",
        "    acc = accuracy_score(y_true=y_test, y_pred=y_pred)\n",
        "    print (f\"k: {k:2d} | Accuracy {acc:.3f}\" )"
      ]
    },
    {
      "cell_type": "markdown",
      "metadata": {
        "id": "suguP0JDFgvc"
      },
      "source": [
        "## Choosing the value of K:   \n",
        "\n",
        "- If K too small, sensitive to noise points   \n",
        "- If K too large, it can be computationally expensive\n",
        "    - what if K is very large, e.g., $+\\infty$?\n",
        "  \n",
        "  \n",
        "- **Distance weighting**:\n",
        "  - weight factor, $w = 1/d^2$\n",
        "\n",
        "\n",
        "- **Exercise: experiment distance weighting**\n",
        "    - see https://scikit-learn.org/stable/modules/generated/sklearn.neighbors.KNeighborsClassifier.html#sklearn.neighbors.KNeighborsClassifier"
      ]
    },
    {
      "cell_type": "markdown",
      "metadata": {
        "id": "kodND3k2Fgvc"
      },
      "source": [
        "## How is this sensible to distances?"
      ]
    },
    {
      "cell_type": "code",
      "execution_count": null,
      "metadata": {
        "id": "lccIvm-MFgvc"
      },
      "outputs": [],
      "source": [
        "for f in X.columns:\n",
        "    print (\"Feature {:2d} -> Scale: {:7.2f}\".format(f, X.loc[:,f].max() - X.loc[:,f].min()) )"
      ]
    },
    {
      "cell_type": "code",
      "execution_count": null,
      "metadata": {
        "id": "OFCJeKkGFgvc"
      },
      "outputs": [],
      "source": [
        "from sklearn.preprocessing import MinMaxScaler\n",
        "\n",
        "from sklearn.neighbors import KNeighborsClassifier\n",
        "from sklearn.metrics import accuracy_score\n",
        "from sklearn.model_selection import train_test_split\n",
        "\n",
        "X_train, X_test, y_train, y_test = train_test_split(\n",
        "    X, y, test_size=0.33, random_state=42)\n",
        "\n",
        "scaler = MinMaxScaler()\n",
        "scaler.fit(X_train)\n",
        "\n",
        "for k in range(1,11):\n",
        "\n",
        "    kNN = KNeighborsClassifier(n_neighbors=k)\n",
        "    kNN.fit( scaler.transform(X_train), y_train )\n",
        "    y_pred = kNN.predict( scaler.transform(X_test) )\n",
        "\n",
        "    # compute Accuracy\n",
        "    acc = accuracy_score(y_true=y_test, y_pred=y_pred)\n",
        "    print (\"k: {:2d} | Accuracy {:.3f}\".format(k,acc) )"
      ]
    },
    {
      "cell_type": "code",
      "execution_count": null,
      "metadata": {
        "id": "wH4FW0t0Fgvc"
      },
      "outputs": [],
      "source": [
        "from sklearn.preprocessing import StandardScaler\n",
        "\n",
        "from sklearn.neighbors import KNeighborsClassifier\n",
        "from sklearn.metrics import accuracy_score\n",
        "from sklearn.model_selection import train_test_split\n",
        "\n",
        "X_train, X_test, y_train, y_test = train_test_split(\n",
        "    X, y, test_size=0.33, random_state=42)\n",
        "\n",
        "scaler = StandardScaler()\n",
        "scaler.fit(X_train)\n",
        "\n",
        "for k in range(1,11):\n",
        "\n",
        "    kNN = KNeighborsClassifier(n_neighbors=k)\n",
        "    kNN.fit(scaler.transform(X_train),y_train)\n",
        "    y_pred = kNN.predict( scaler.transform(X_test) )\n",
        "\n",
        "    # compute Accuracy\n",
        "    acc = accuracy_score(y_true=y_test, y_pred=y_pred)\n",
        "    print (\"k: {:2d} | Accuracy {:.3f}\".format(k,acc) )"
      ]
    },
    {
      "cell_type": "markdown",
      "metadata": {
        "id": "Rr3WwfEGFgvc"
      },
      "source": [
        "- Best scaling depends on data\n",
        "  - **StandardScaler** and **MinMaxScaling** are both sensitive to outliers\n",
        "  - **StandardScaler** when we have a Gaussian distribution, e.g., age\n",
        "  - **MinMaxScaling** when we do not have a Gaussian distribution, e.g., pixel colors in a image\n",
        "- Euclidean Distance assumes all features are equally important, and this is usually not the case\n"
      ]
    },
    {
      "cell_type": "markdown",
      "metadata": {
        "id": "y6qBwQjeFgvc"
      },
      "source": [
        "## It might be a good idea to weigh features according to some domain knowledge"
      ]
    },
    {
      "cell_type": "code",
      "execution_count": null,
      "metadata": {
        "id": "nDOLya8vFgvc"
      },
      "outputs": [],
      "source": [
        "from sklearn.neighbors import KNeighborsClassifier\n",
        "from sklearn.metrics import accuracy_score\n",
        "from sklearn.model_selection import train_test_split\n",
        "\n",
        "X_train, X_test, y_train, y_test = train_test_split(\n",
        "    X, y, test_size=0.33, random_state=42)\n",
        "\n",
        "def my_distance(a,b):\n",
        "    return 10*abs(a[0]-b[0]) + abs(a[1]-b[1])\n",
        "\n",
        "for k in range(1,11):\n",
        "\n",
        "    kNN = KNeighborsClassifier(n_neighbors = k,\n",
        "                                         metric = my_distance)\n",
        "    kNN.fit( X_train ,y_train)\n",
        "    y_pred = kNN.predict( X_test )\n",
        "\n",
        "    # compute accuracy\n",
        "    acc = accuracy_score(y_true=y_test, y_pred=y_pred)\n",
        "    print (\"k: {:2d} | Accuracy {:.3f}\".format(k,acc) )"
      ]
    },
    {
      "cell_type": "markdown",
      "metadata": {
        "id": "TOhbM9inFgvd"
      },
      "source": [
        "<div class=\"alert alert-warning\" role=\"alert\">\n",
        "\n",
        "## Computational Complexity\n",
        "\n",
        "- $O(k \\log N)$ with multi-dimensional search trees\n",
        "- Additional speed-up with\n",
        "  - cluster-based pre-filtering\n",
        "\n",
        "</div>     \n",
        "\n"
      ]
    },
    {
      "cell_type": "markdown",
      "metadata": {
        "id": "C1jtARnaFgvd"
      },
      "source": [
        "# Let's wrap-up with 2-dimensional data"
      ]
    },
    {
      "cell_type": "code",
      "execution_count": null,
      "metadata": {
        "id": "OOyO9_wEFgvd"
      },
      "outputs": [],
      "source": [
        "%matplotlib inline\n",
        "\n",
        "import numpy as np\n",
        "import matplotlib.pyplot as plt\n",
        "\n",
        "from sklearn.datasets import make_blobs\n",
        "from sklearn.neighbors import KNeighborsClassifier\n",
        "from sklearn.metrics import accuracy_score\n",
        "from sklearn.model_selection import train_test_split\n",
        "\n",
        "N_SAMPLES = 1000\n",
        "N_CENTERS = 4\n",
        "\n",
        "# create a random dataset\n",
        "X, labels_true = make_blobs(n_samples=N_SAMPLES,\n",
        "                            centers=N_CENTERS, cluster_std=1,\n",
        "                            random_state=22222222)\n",
        "transformation = [[0.6, -0.6], [-0.4, 0.9]]\n",
        "X = np.dot(X, transformation)\n",
        "\n",
        "X_train, X_test, y_train, y_test = train_test_split(X, labels_true,\n",
        "                                                    test_size=0.33,\n",
        "                                                    random_state=42)\n",
        "\n",
        "kNN = KNeighborsClassifier(n_neighbors=10)\n",
        "kNN.fit( X_train, y_train )\n",
        "y_pred = kNN.predict( X_test )\n",
        "\n",
        "# compute accuracy\n",
        "acc = accuracy_score(y_true=y_test, y_pred=y_pred)\n",
        "print (\"k: {:2d} | Accuracy {:.3f}\".format(k,acc) )\n",
        "\n",
        "# plot\n",
        "fig, ax = plt.subplots(figsize=(6,6))\n",
        "ax.scatter(X_train[:,0], X_train[:,1], c=y_train, alpha=0.1)\n",
        "ax.scatter(X_test[:,0], X_test[:,1], c=y_pred, marker='+');"
      ]
    },
    {
      "cell_type": "markdown",
      "metadata": {
        "id": "lQ6V0OzCFgve"
      },
      "source": [
        "Let's show the decision boundary"
      ]
    },
    {
      "cell_type": "code",
      "execution_count": null,
      "metadata": {
        "id": "tWtZpbI-KfBi"
      },
      "outputs": [],
      "source": [
        "%matplotlib inline\n",
        "\n",
        "import numpy as np\n",
        "import matplotlib.pyplot as plt\n",
        "\n",
        "from sklearn.datasets import make_blobs\n",
        "from sklearn.neighbors import KNeighborsClassifier\n",
        "from sklearn.metrics import accuracy_score\n",
        "from sklearn.model_selection import train_test_split\n",
        "from sklearn.inspection import DecisionBoundaryDisplay\n",
        "\n",
        "\n",
        "N_SAMPLES = 1000\n",
        "N_CENTERS = 4\n",
        "\n",
        "# create a random dataset\n",
        "X, labels_true = make_blobs(n_samples=N_SAMPLES,\n",
        "                            centers=N_CENTERS, cluster_std=1,\n",
        "                            random_state=22222222)\n",
        "transformation = [[0.6, -0.6], [-0.4, 0.9]]\n",
        "X = np.dot(X, transformation)\n",
        "\n",
        "X_train, X_test, y_train, y_test = train_test_split(X, labels_true,\n",
        "                                                    test_size=0.33,\n",
        "                                                    random_state=42)\n",
        "\n",
        "# Try changing the number of neighbours\n",
        "kNN = KNeighborsClassifier(n_neighbors=10)\n",
        "kNN.fit( X_train ,y_train)\n",
        "\n",
        "fig, ax = plt.subplots(figsize=(6,6))\n",
        "\n",
        "disp = DecisionBoundaryDisplay.from_estimator(\n",
        "    kNN, X_train,\n",
        "    grid_resolution = 30,\n",
        "    alpha=0.3, ax = ax)\n",
        "\n",
        "ax.scatter(X_train[:,0], X_train[:,1], c=y_train, edgecolor=\"k\", alpha=0.5)\n",
        "plt.show()\n"
      ]
    },
    {
      "cell_type": "code",
      "execution_count": null,
      "metadata": {
        "id": "1BxnBHhZFgve"
      },
      "outputs": [],
      "source": []
    },
    {
      "cell_type": "code",
      "execution_count": null,
      "metadata": {
        "id": "0wQBL07IFgve"
      },
      "outputs": [],
      "source": []
    },
    {
      "cell_type": "markdown",
      "metadata": {
        "id": "V8nFn-0XFgve"
      },
      "source": [
        "## References\n",
        "\n",
        "- **Introduction to Data Mining (Second Edition)**. , Kumar et al.\n",
        "  - Chapter 4: Classification: Basic Concepts, Decision Trees, and Model Evaluation\n",
        "    - until 4.3 included\n",
        "  - Section 5.2: Nearest-Neighbor classifiers\n",
        "\n",
        "\n",
        "- **Python Data Science Handbook**. O’Reilly. 2016\n",
        "  - Chapter 5: Machine Learning - Introducing Scikit-Learn\n",
        "  \n"
      ]
    }
  ],
  "metadata": {
    "kernelspec": {
      "display_name": "Python 3.8.5 ('base')",
      "language": "python",
      "name": "python3"
    },
    "language_info": {
      "codemirror_mode": {
        "name": "ipython",
        "version": 3
      },
      "file_extension": ".py",
      "mimetype": "text/x-python",
      "name": "python",
      "nbconvert_exporter": "python",
      "pygments_lexer": "ipython3",
      "version": "3.8.5"
    },
    "vscode": {
      "interpreter": {
        "hash": "e86f0528a1b45e531703c752e90d2c936b2dda6dac6764f4cd4f9141650544b5"
      }
    },
    "colab": {
      "provenance": []
    }
  },
  "nbformat": 4,
  "nbformat_minor": 0
}