{
 "cells": [
  {
   "cell_type": "markdown",
   "source": [
    "# decision tree - predizione pagamento mutuo\n",
    "l'**obiettivo** p quello di capire se il cliente srà in grado di pagare o meno il mutuo"
   ],
   "metadata": {
    "collapsed": false
   },
   "id": "3165d3e804c2c68"
  }
 ],
 "metadata": {
  "kernelspec": {
   "display_name": "Python 3",
   "language": "python",
   "name": "python3"
  },
  "language_info": {
   "codemirror_mode": {
    "name": "ipython",
    "version": 2
   },
   "file_extension": ".py",
   "mimetype": "text/x-python",
   "name": "python",
   "nbconvert_exporter": "python",
   "pygments_lexer": "ipython2",
   "version": "2.7.6"
  }
 },
 "nbformat": 4,
 "nbformat_minor": 5
}
