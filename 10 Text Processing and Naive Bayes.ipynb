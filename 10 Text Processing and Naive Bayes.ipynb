{
 "cells": [
  {
   "cell_type": "markdown",
   "metadata": {
    "id": "duSRMyPtXc15"
   },
   "source": [
    "# Text Processing and Naive Bayes"
   ]
  },
  {
   "cell_type": "markdown",
   "metadata": {
    "id": "HyAtN4V4Xc18"
   },
   "source": [
    "## SMS Spam Collection Data Set\n",
    "\n",
    "Dataset at: https://archive.ics.uci.edu/ml/datasets/SMS+Spam+Collection"
   ]
  },
  {
   "cell_type": "code",
   "execution_count": 1,
   "metadata": {
    "colab": {
     "base_uri": "https://localhost:8080/"
    },
    "executionInfo": {
     "elapsed": 31636,
     "status": "ok",
     "timestamp": 1667470838821,
     "user": {
      "displayName": "Claudio Lucchese",
      "userId": "16947562387814380599"
     },
     "user_tz": -60
    },
    "id": "uQjxBO1KXc18",
    "outputId": "b7c5bebd-ad1f-4087-f19a-d81e3e57cc79"
   },
   "outputs": [],
   "source": [
    "import pandas as pd\n",
    "\n",
    "filename = \"https://raw.githubusercontent.com/udacity/machine-learning/master/projects/practice_projects/naive_bayes_tutorial/smsspamcollection/SMSSpamCollection\"\n",
    "data = pd.read_csv(filename, delimiter='\\t', header=None,\n",
    "                    names = ['label', 'text'])"
   ]
  },
  {
   "cell_type": "code",
   "execution_count": 2,
   "metadata": {
    "colab": {
     "base_uri": "https://localhost:8080/",
     "height": 214
    },
    "executionInfo": {
     "elapsed": 361,
     "status": "ok",
     "timestamp": 1667470859173,
     "user": {
      "displayName": "Claudio Lucchese",
      "userId": "16947562387814380599"
     },
     "user_tz": -60
    },
    "id": "X67wYUpIXc1-",
    "outputId": "8a925a4c-ef88-4ccc-b628-9631fcac4d33"
   },
   "outputs": [
    {
     "data": {
      "text/html": [
       "<div>\n",
       "<style scoped>\n",
       "    .dataframe tbody tr th:only-of-type {\n",
       "        vertical-align: middle;\n",
       "    }\n",
       "\n",
       "    .dataframe tbody tr th {\n",
       "        vertical-align: top;\n",
       "    }\n",
       "\n",
       "    .dataframe thead th {\n",
       "        text-align: right;\n",
       "    }\n",
       "</style>\n",
       "<table border=\"1\" class=\"dataframe\">\n",
       "  <thead>\n",
       "    <tr style=\"text-align: right;\">\n",
       "      <th></th>\n",
       "      <th>label</th>\n",
       "      <th>text</th>\n",
       "    </tr>\n",
       "  </thead>\n",
       "  <tbody>\n",
       "    <tr>\n",
       "      <th>0</th>\n",
       "      <td>ham</td>\n",
       "      <td>Go until jurong point, crazy.. Available only ...</td>\n",
       "    </tr>\n",
       "    <tr>\n",
       "      <th>1</th>\n",
       "      <td>ham</td>\n",
       "      <td>Ok lar... Joking wif u oni...</td>\n",
       "    </tr>\n",
       "    <tr>\n",
       "      <th>2</th>\n",
       "      <td>spam</td>\n",
       "      <td>Free entry in 2 a wkly comp to win FA Cup fina...</td>\n",
       "    </tr>\n",
       "    <tr>\n",
       "      <th>3</th>\n",
       "      <td>ham</td>\n",
       "      <td>U dun say so early hor... U c already then say...</td>\n",
       "    </tr>\n",
       "    <tr>\n",
       "      <th>4</th>\n",
       "      <td>ham</td>\n",
       "      <td>Nah I don't think he goes to usf, he lives aro...</td>\n",
       "    </tr>\n",
       "  </tbody>\n",
       "</table>\n",
       "</div>"
      ],
      "text/plain": [
       "  label                                               text\n",
       "0   ham  Go until jurong point, crazy.. Available only ...\n",
       "1   ham                      Ok lar... Joking wif u oni...\n",
       "2  spam  Free entry in 2 a wkly comp to win FA Cup fina...\n",
       "3   ham  U dun say so early hor... U c already then say...\n",
       "4   ham  Nah I don't think he goes to usf, he lives aro..."
      ]
     },
     "execution_count": 2,
     "metadata": {},
     "output_type": "execute_result"
    }
   ],
   "source": [
    "data.head()"
   ]
  },
  {
   "cell_type": "code",
   "execution_count": 3,
   "metadata": {
    "colab": {
     "base_uri": "https://localhost:8080/",
     "height": 35
    },
    "executionInfo": {
     "elapsed": 613,
     "status": "ok",
     "timestamp": 1667470873535,
     "user": {
      "displayName": "Claudio Lucchese",
      "userId": "16947562387814380599"
     },
     "user_tz": -60
    },
    "id": "SxPPpHmiXc1-",
    "outputId": "648d4497-2c80-491e-b555-4050492ce130"
   },
   "outputs": [
    {
     "data": {
      "text/plain": [
       "'Go until jurong point, crazy.. Available only in bugis n great world la e buffet... Cine there got amore wat...'"
      ]
     },
     "execution_count": 3,
     "metadata": {},
     "output_type": "execute_result"
    }
   ],
   "source": [
    "data.loc[0,'text']"
   ]
  },
  {
   "cell_type": "code",
   "execution_count": null,
   "metadata": {
    "collapsed": false
   },
   "outputs": [],
   "source": []
  },
  {
   "cell_type": "code",
   "execution_count": 4,
   "metadata": {
    "colab": {
     "base_uri": "https://localhost:8080/",
     "height": 35
    },
    "executionInfo": {
     "elapsed": 5,
     "status": "ok",
     "timestamp": 1667470875069,
     "user": {
      "displayName": "Claudio Lucchese",
      "userId": "16947562387814380599"
     },
     "user_tz": -60
    },
    "id": "gjeQmHXZXc1_",
    "outputId": "1e3290d8-630b-4284-ff13-73cd8c16a462"
   },
   "outputs": [
    {
     "data": {
      "text/plain": [
       "\"Free entry in 2 a wkly comp to win FA Cup final tkts 21st May 2005. Text FA to 87121 to receive entry question(std txt rate)T&C's apply 08452810075over18's\""
      ]
     },
     "execution_count": 4,
     "metadata": {},
     "output_type": "execute_result"
    }
   ],
   "source": [
    "data.loc[2,'text']"
   ]
  },
  {
   "cell_type": "code",
   "execution_count": 5,
   "metadata": {
    "colab": {
     "base_uri": "https://localhost:8080/"
    },
    "executionInfo": {
     "elapsed": 4,
     "status": "ok",
     "timestamp": 1667470876578,
     "user": {
      "displayName": "Claudio Lucchese",
      "userId": "16947562387814380599"
     },
     "user_tz": -60
    },
    "id": "Zu-_rR__Xc1_",
    "outputId": "2e80dd04-aaec-40b3-dbee-cc0be2c93b84"
   },
   "outputs": [
    {
     "data": {
      "text/plain": [
       "label\n",
       "ham     4825\n",
       "spam     747\n",
       "Name: count, dtype: int64"
      ]
     },
     "execution_count": 5,
     "metadata": {},
     "output_type": "execute_result"
    }
   ],
   "source": [
    "data['label'].value_counts()"
   ]
  },
  {
   "cell_type": "code",
   "execution_count": 6,
   "metadata": {
    "id": "oFOJdtQFXc2A"
   },
   "outputs": [],
   "source": [
    "from sklearn.model_selection import train_test_split\n",
    "X_train, X_test, y_train, y_test = train_test_split(data['text'], data['label'], random_state=0)"
   ]
  },
  {
   "cell_type": "markdown",
   "metadata": {
    "ExecuteTime": {
     "end_time": "2023-10-20T14:33:08.936048Z",
     "start_time": "2023-10-20T14:33:08.928555Z"
    },
    "id": "hL5hEKH8Xc2A"
   },
   "source": [
    "### Baseline Classifier"
   ]
  },
  {
   "cell_type": "code",
   "execution_count": 7,
   "metadata": {
    "colab": {
     "base_uri": "https://localhost:8080/"
    },
    "executionInfo": {
     "elapsed": 4,
     "status": "ok",
     "timestamp": 1667470880732,
     "user": {
      "displayName": "Claudio Lucchese",
      "userId": "16947562387814380599"
     },
     "user_tz": -60
    },
    "id": "vpF28MloXc2A",
    "outputId": "9d20348f-56ae-4e91-dbe6-9634dffd423d"
   },
   "outputs": [
    {
     "name": "stdout",
     "output_type": "stream",
     "text": [
      "Baseline Accuracy: 86.72%\n"
     ]
    },
    {
     "name": "stderr",
     "output_type": "stream",
     "text": [
      "/var/folders/3q/3zcx9t8n7zg115s0bh24wc6w0000gn/T/ipykernel_28505/4171050648.py:1: FutureWarning: Series.__getitem__ treating keys as positions is deprecated. In a future version, integer keys will always be treated as labels (consistent with DataFrame behavior). To access a value by position, use `ser.iloc[pos]`\n",
      "  baseline_acc = y_test.value_counts()[0] / len(y_test)\n"
     ]
    }
   ],
   "source": [
    "baseline_acc = y_test.value_counts()[0] / len(y_test)\n",
    "print ( f\"Baseline Accuracy: {baseline_acc*100:.2f}%\" )"
   ]
  },
  {
   "cell_type": "markdown",
   "metadata": {
    "ExecuteTime": {
     "end_time": "2023-10-20T14:33:08.936299Z",
     "start_time": "2023-10-20T14:33:08.931487Z"
    },
    "id": "UNZnHAnOXc2B"
   },
   "source": [
    "## How to build a classifier?"
   ]
  },
  {
   "cell_type": "code",
   "execution_count": null,
   "metadata": {
    "id": "9g4h1sSzXc2B"
   },
   "outputs": [],
   "source": []
  },
  {
   "cell_type": "code",
   "execution_count": null,
   "metadata": {
    "id": "Q5Qy8Y5cXc2B"
   },
   "outputs": [],
   "source": []
  },
  {
   "cell_type": "code",
   "execution_count": null,
   "metadata": {
    "id": "BhTEcB6FXc2C"
   },
   "outputs": [],
   "source": []
  },
  {
   "cell_type": "code",
   "execution_count": null,
   "metadata": {
    "id": "bUlcXoEqXc2C"
   },
   "outputs": [],
   "source": []
  },
  {
   "cell_type": "code",
   "execution_count": null,
   "metadata": {
    "id": "K16XYWxcXc2C"
   },
   "outputs": [],
   "source": []
  },
  {
   "cell_type": "code",
   "execution_count": null,
   "metadata": {
    "id": "mZtHMZz1Xc2C"
   },
   "outputs": [],
   "source": []
  },
  {
   "cell_type": "code",
   "execution_count": null,
   "metadata": {
    "id": "n16Db6LKXc2C"
   },
   "outputs": [],
   "source": []
  },
  {
   "cell_type": "markdown",
   "metadata": {
    "id": "Jgxx5IY8Xc2C"
   },
   "source": [
    "## Feature Processing"
   ]
  },
  {
   "cell_type": "markdown",
   "metadata": {
    "ExecuteTime": {
     "end_time": "2023-10-20T14:33:08.968491Z",
     "start_time": "2023-10-20T14:33:08.957480Z"
    },
    "id": "xKxGzKknXc2C"
   },
   "source": [
    "## Option 1: a text is a **set of words**"
   ]
  },
  {
   "cell_type": "code",
   "execution_count": 8,
   "metadata": {
    "id": "gJGP-QEXXc2D"
   },
   "outputs": [],
   "source": [
    "X_train_words = X_train.apply(lambda x: set(x.split()))"
   ]
  },
  {
   "cell_type": "code",
   "execution_count": 9,
   "metadata": {
    "colab": {
     "base_uri": "https://localhost:8080/"
    },
    "executionInfo": {
     "elapsed": 9,
     "status": "ok",
     "timestamp": 1667470890431,
     "user": {
      "displayName": "Claudio Lucchese",
      "userId": "16947562387814380599"
     },
     "user_tz": -60
    },
    "id": "FoDqnl7UXc2D",
    "outputId": "8a701302-5c9c-49b6-ea06-395f730d907e"
   },
   "outputs": [
    {
     "data": {
      "text/plain": [
       "872     {experience, to, going, problem..but, still, c...\n",
       "831     {1.50, U, admirer., msg, 07821230901, To, secr...\n",
       "1273                                              {Ok...}\n",
       "3314    {best, to, if, mel, not, Anyway,, we, Hyde, go...\n",
       "4929    {up, to, sisters, hopeing, remember, and, too,...\n",
       "Name: text, dtype: object"
      ]
     },
     "execution_count": 9,
     "metadata": {},
     "output_type": "execute_result"
    }
   ],
   "source": [
    "X_train_words.head()"
   ]
  },
  {
   "cell_type": "code",
   "execution_count": 10,
   "metadata": {
    "id": "rLbTxYEDXc2D"
   },
   "outputs": [],
   "source": [
    "X_train_words = X_train.apply(lambda x: set(x.lower().split()))"
   ]
  },
  {
   "cell_type": "code",
   "execution_count": 11,
   "metadata": {
    "colab": {
     "base_uri": "https://localhost:8080/"
    },
    "executionInfo": {
     "elapsed": 8,
     "status": "ok",
     "timestamp": 1667470890432,
     "user": {
      "displayName": "Claudio Lucchese",
      "userId": "16947562387814380599"
     },
     "user_tz": -60
    },
    "id": "xdSMQmouXc2D",
    "outputId": "08ce9c24-cc4a-470b-f272-8d0b52a36a40"
   },
   "outputs": [
    {
     "data": {
      "text/plain": [
       "872     {experience, to, going, problem..but, still, c...\n",
       "831     {reveal, 1.50, to, admirer., msg, 07821230901,...\n",
       "1273                                              {ok...}\n",
       "3314    {best, to, hyde, anyway,, if, mel, not, we, go...\n",
       "4929    {up, to, just, hopeing, remember, sisters, and...\n",
       "Name: text, dtype: object"
      ]
     },
     "execution_count": 11,
     "metadata": {},
     "output_type": "execute_result"
    }
   ],
   "source": [
    "X_train_words.head()"
   ]
  },
  {
   "cell_type": "code",
   "execution_count": 12,
   "metadata": {
    "colab": {
     "base_uri": "https://localhost:8080/"
    },
    "executionInfo": {
     "elapsed": 7,
     "status": "ok",
     "timestamp": 1667470890432,
     "user": {
      "displayName": "Claudio Lucchese",
      "userId": "16947562387814380599"
     },
     "user_tz": -60
    },
    "id": "D7UyC82cXc2D",
    "outputId": "d6e34eb9-c048-4a47-80e1-28c27fe3a8d3"
   },
   "outputs": [
    {
     "name": "stdout",
     "output_type": "stream",
     "text": [
      "11439\n"
     ]
    }
   ],
   "source": [
    "# union of all terms\n",
    "lexicon = set.union( *X_train_words ) # * unpack iterable into arguments\n",
    "\n",
    "print ( len( lexicon ) ) # This would make a large matrix !\n",
    "# print ( lexicon )"
   ]
  },
  {
   "cell_type": "code",
   "execution_count": 13,
   "metadata": {
    "colab": {
     "base_uri": "https://localhost:8080/"
    },
    "executionInfo": {
     "elapsed": 7,
     "status": "ok",
     "timestamp": 1667470890433,
     "user": {
      "displayName": "Claudio Lucchese",
      "userId": "16947562387814380599"
     },
     "user_tz": -60
    },
    "id": "1aYX1UUJXc2E",
    "outputId": "46869565-c3bb-4e2a-aa67-53ad8f28a8b0"
   },
   "outputs": [
    {
     "name": "stdout",
     "output_type": "stream",
     "text": [
      "(4179, 7546)\n"
     ]
    }
   ],
   "source": [
    "from sklearn.feature_extraction.text import CountVectorizer\n",
    "\n",
    "vctz = CountVectorizer(binary=True)\n",
    "\n",
    "X_train = vctz.fit_transform(X_train)\n",
    "\n",
    "print (X_train.shape)\n",
    "\n",
    "# print (vctz.vocabulary_)"
   ]
  },
  {
   "cell_type": "code",
   "execution_count": 14,
   "metadata": {
    "colab": {
     "base_uri": "https://localhost:8080/"
    },
    "executionInfo": {
     "elapsed": 6,
     "status": "ok",
     "timestamp": 1667470890433,
     "user": {
      "displayName": "Claudio Lucchese",
      "userId": "16947562387814380599"
     },
     "user_tz": -60
    },
    "id": "fKOT9jhFXc2E",
    "outputId": "c912013b-9aab-4b7a-eadc-ed11a01026b9"
   },
   "outputs": [
    {
     "name": "stdout",
     "output_type": "stream",
     "text": [
      "  (0, 3676)\t1\n",
      "  (0, 3090)\t1\n",
      "  (0, 3100)\t1\n",
      "  (0, 4663)\t1\n",
      "  (0, 5294)\t1\n",
      "  (0, 1526)\t1\n",
      "  (0, 6315)\t1\n",
      "  (0, 4593)\t1\n",
      "  (0, 4049)\t1\n",
      "  (0, 2630)\t1\n",
      "  (0, 6764)\t1\n",
      "  (0, 6964)\t1\n",
      "  (0, 915)\t1\n",
      "  (0, 2058)\t1\n",
      "  (0, 7133)\t1\n"
     ]
    }
   ],
   "source": [
    "print ( X_train[0,:] ) # X is in sparse Format"
   ]
  },
  {
   "cell_type": "code",
   "execution_count": 15,
   "metadata": {
    "colab": {
     "base_uri": "https://localhost:8080/"
    },
    "executionInfo": {
     "elapsed": 894,
     "status": "ok",
     "timestamp": 1667470891322,
     "user": {
      "displayName": "Claudio Lucchese",
      "userId": "16947562387814380599"
     },
     "user_tz": -60
    },
    "id": "59Ktxyg2Xc2E",
    "outputId": "cb2b88c6-145d-4e7b-adc9-a15a104bebfe"
   },
   "outputs": [
    {
     "name": "stdout",
     "output_type": "stream",
     "text": [
      "Baseline Accuracy: 97.42%\n"
     ]
    }
   ],
   "source": [
    "from sklearn.metrics import accuracy_score\n",
    "from sklearn.tree import DecisionTreeClassifier\n",
    "\n",
    "model = DecisionTreeClassifier()\n",
    "model.fit(X_train,y_train)\n",
    "\n",
    "model_acc = accuracy_score ( y_true = y_test,\n",
    "     y_pred = model.predict( vctz.transform(X_test) ))\n",
    "print ( f\"Baseline Accuracy: {model_acc*100:.2f}%\" )"
   ]
  },
  {
   "cell_type": "markdown",
   "metadata": {
    "ExecuteTime": {
     "end_time": "2023-10-20T14:33:09.200041Z",
     "start_time": "2023-10-20T14:33:09.163337Z"
    },
    "id": "Z8ghm5OQXc2F"
   },
   "source": [
    "## Option 2: a text is a **bag of words**"
   ]
  },
  {
   "cell_type": "code",
   "execution_count": 16,
   "metadata": {
    "id": "6VNq4e5UXc2F"
   },
   "outputs": [],
   "source": [
    "# get data\n",
    "from sklearn.model_selection import train_test_split\n",
    "X_train, X_test, y_train, y_test = train_test_split(data['text'], data['label'], random_state=0)\n",
    "\n",
    "# create the vectorier\n",
    "from sklearn.feature_extraction.text import CountVectorizer\n",
    "vctz = CountVectorizer(binary=False)\n",
    "X_train = vctz.fit_transform(X_train)"
   ]
  },
  {
   "cell_type": "code",
   "execution_count": 17,
   "metadata": {
    "colab": {
     "base_uri": "https://localhost:8080/"
    },
    "executionInfo": {
     "elapsed": 5,
     "status": "ok",
     "timestamp": 1667470891322,
     "user": {
      "displayName": "Claudio Lucchese",
      "userId": "16947562387814380599"
     },
     "user_tz": -60
    },
    "id": "9e5kKyeKXc2F",
    "outputId": "9f56bbba-e07d-40e5-bdd4-71b64a534b82"
   },
   "outputs": [
    {
     "name": "stdout",
     "output_type": "stream",
     "text": [
      "Baseline Accuracy: 97.20%\n"
     ]
    }
   ],
   "source": [
    "from sklearn.metrics import accuracy_score\n",
    "from sklearn.tree import DecisionTreeClassifier\n",
    "\n",
    "model = DecisionTreeClassifier()\n",
    "model.fit(X_train,y_train)\n",
    "\n",
    "model_acc = accuracy_score ( y_true = y_test,\n",
    "     y_pred = model.predict( vctz.transform(X_test) ))\n",
    "print ( f\"Baseline Accuracy: {model_acc*100:.2f}%\" )"
   ]
  },
  {
   "cell_type": "markdown",
   "metadata": {
    "id": "lTHc0Q6DXc2F"
   },
   "source": [
    "## Option 3: TF-IDF"
   ]
  },
  {
   "cell_type": "markdown",
   "metadata": {
    "ExecuteTime": {
     "end_time": "2023-10-20T14:33:09.336920Z",
     "start_time": "2023-10-20T14:33:09.284873Z"
    },
    "id": "9f1FG4YtXc2F"
   },
   "source": [
    "### Term frequency\n",
    "\n",
    "The term frequency used above is simply the number of times a term occurs in a document $tf(t)$.\n",
    "\n",
    "\n",
    "### Inverse document frequency\n",
    "\n",
    "Inverse document frequency approximates the specificity of a term in a given document collection.\n",
    "IDF is defined as follows:\n",
    "\n",
    "$$\n",
    "idf(t) = \\ln \\frac{N_{docs}}{df(t)}\n",
    "$$\n",
    "\n",
    "where $N_{docs}$ is the number of documents in the collection and ${df(t)}$ is the number of documents containing the term $t$.\n",
    "\n",
    "IDF is used to discount frequent terms.\n",
    "\n",
    "The weight of a term for a document is thus defined as $tf(t)\\cdot idf(t)$."
   ]
  },
  {
   "cell_type": "code",
   "execution_count": 18,
   "metadata": {
    "id": "_NoSe3lQXc2G"
   },
   "outputs": [],
   "source": [
    "# get data\n",
    "from sklearn.model_selection import train_test_split\n",
    "X_train, X_test, y_train, y_test = train_test_split(data['text'], data['label'], random_state=0)\n",
    "\n",
    "# create the vectorier\n",
    "from sklearn.feature_extraction.text import TfidfVectorizer\n",
    "vctz = TfidfVectorizer()\n",
    "X_train = vctz.fit_transform(X_train)"
   ]
  },
  {
   "cell_type": "code",
   "execution_count": 19,
   "metadata": {
    "colab": {
     "base_uri": "https://localhost:8080/"
    },
    "executionInfo": {
     "elapsed": 8,
     "status": "ok",
     "timestamp": 1667470891816,
     "user": {
      "displayName": "Claudio Lucchese",
      "userId": "16947562387814380599"
     },
     "user_tz": -60
    },
    "id": "HvWfgi4MXc2G",
    "outputId": "25c6b641-31de-4fd7-951e-c4875f9e283f"
   },
   "outputs": [
    {
     "name": "stdout",
     "output_type": "stream",
     "text": [
      "Model Accuracy: 97.20%\n"
     ]
    }
   ],
   "source": [
    "from sklearn.metrics import accuracy_score\n",
    "from sklearn.tree import DecisionTreeClassifier\n",
    "\n",
    "model = DecisionTreeClassifier()\n",
    "model.fit(X_train,y_train)\n",
    "\n",
    "model_acc = accuracy_score ( y_true = y_test,\n",
    "     y_pred = model.predict( vctz.transform(X_test) ))\n",
    "print ( f\"Model Accuracy: {model_acc*100:.2f}%\" )"
   ]
  },
  {
   "cell_type": "markdown",
   "metadata": {
    "ExecuteTime": {
     "end_time": "2023-10-20T14:33:10.068986Z",
     "start_time": "2023-10-20T14:33:09.495140Z"
    },
    "id": "qMDoUhI3Xc2G"
   },
   "source": [
    "## More Text Processing\n",
    "\n",
    "Typical \"text normalization\" steps are:\n",
    "\n",
    " - **Stemming** refers to the removal of prefix/suffixes: `being` -> `be`, `was`->`was` \n",
    "\n",
    " - **Lemming** refers to the identification of the \"origin\" of a word: `being` -> `be`, `was`->`be`\n"
   ]
  },
  {
   "cell_type": "code",
   "execution_count": 23,
   "metadata": {
    "id": "aayVlmGCXc2G"
   },
   "outputs": [],
   "source": [
    "import spacy\n",
    "\n",
    "# create a spaCy tokenizer\n",
    "nlp = spacy.load('en_core_web_sm')"
   ]
  },
  {
   "cell_type": "code",
   "execution_count": 24,
   "metadata": {
    "colab": {
     "base_uri": "https://localhost:8080/"
    },
    "executionInfo": {
     "elapsed": 12,
     "status": "ok",
     "timestamp": 1667470900435,
     "user": {
      "displayName": "Claudio Lucchese",
      "userId": "16947562387814380599"
     },
     "user_tz": -60
    },
    "id": "A4hx7WH-Xc2H",
    "outputId": "a9382be9-ba32-4f32-b38e-6dc856cdbd57"
   },
   "outputs": [
    {
     "name": "stdout",
     "output_type": "stream",
     "text": [
      "token:I  -> lemma:I\n",
      "token:love  -> lemma:love\n",
      "token:playing  -> lemma:play\n",
      "token:tennis  -> lemma:tennis\n"
     ]
    }
   ],
   "source": [
    "doc = nlp(\"I love playing tennis\")\n",
    "for token in doc:\n",
    "    print (f\"token:{token}  -> lemma:{token.lemma_}\")"
   ]
  },
  {
   "cell_type": "code",
   "execution_count": 25,
   "metadata": {
    "id": "4TidN1EQXc2H"
   },
   "outputs": [
    {
     "name": "stderr",
     "output_type": "stream",
     "text": [
      "/usr/local/lib/python3.11/site-packages/sklearn/feature_extraction/text.py:525: UserWarning: The parameter 'token_pattern' will not be used since 'tokenizer' is not None'\n",
      "  warnings.warn(\n"
     ]
    }
   ],
   "source": [
    "import spacy\n",
    "nlp = spacy.load('en_core_web_sm')\n",
    "\n",
    "def my_tokenizer(x):\n",
    "    doc = nlp(x)\n",
    "    return [token.lemma_ for token in doc]\n",
    "\n",
    "# get data\n",
    "from sklearn.model_selection import train_test_split\n",
    "X_train, X_test, y_train, y_test = train_test_split(data['text'], data['label'], random_state=0)\n",
    "\n",
    "# create the vectorizer\n",
    "from sklearn.feature_extraction.text import TfidfVectorizer\n",
    "vctz = TfidfVectorizer(tokenizer=my_tokenizer)\n",
    "X_train = vctz.fit_transform(X_train)"
   ]
  },
  {
   "cell_type": "code",
   "execution_count": 26,
   "metadata": {
    "colab": {
     "base_uri": "https://localhost:8080/"
    },
    "executionInfo": {
     "elapsed": 13578,
     "status": "ok",
     "timestamp": 1667470954024,
     "user": {
      "displayName": "Claudio Lucchese",
      "userId": "16947562387814380599"
     },
     "user_tz": -60
    },
    "id": "Seg1RzTqXc2H",
    "outputId": "a927d91b-346f-4475-80b3-771504d90d40"
   },
   "outputs": [
    {
     "name": "stdout",
     "output_type": "stream",
     "text": [
      "Model Accuracy: 96.34%\n"
     ]
    }
   ],
   "source": [
    "from sklearn.metrics import accuracy_score\n",
    "from sklearn.tree import DecisionTreeClassifier\n",
    "\n",
    "model = DecisionTreeClassifier()\n",
    "model.fit(X_train,y_train)\n",
    "\n",
    "model_acc = accuracy_score ( y_true = y_test,\n",
    "     y_pred = model.predict( vctz.transform(X_test) ))\n",
    "print ( f\"Model Accuracy: {model_acc*100:.2f}%\" )"
   ]
  },
  {
   "cell_type": "markdown",
   "metadata": {
    "id": "1-8RimgnXc2H"
   },
   "source": [
    "See more about Spacy: https://spacy.io/usage/linguistic-features"
   ]
  },
  {
   "cell_type": "markdown",
   "metadata": {
    "id": "4corxDLCXc2H"
   },
   "source": [
    "# Naive Bayes\n",
    "\n",
    "#### Example\n",
    "\n",
    "You want to go running today, but the morning is cloudy. You know that:\n",
    "\n",
    " - 50% of all rainy days start off cloudy\n",
    " - 40% of days start cloudy\n",
    " - This is typically a dry month, only 10% of the days are rainy\n",
    "\n",
    "**What is the chance of rain?**\n",
    "\n",
    "Or... what is $P(Rain|Cloudy)$ ?\n"
   ]
  },
  {
   "cell_type": "markdown",
   "metadata": {
    "id": "yT32m1naXc2H"
   },
   "source": [
    "We recall that:\n",
    "\n",
    "$$P(Y|X) = \\frac{P(X,Y)}{P(X)}$$\n",
    "\n",
    "which implies:\n",
    "\n",
    "$$P(X,Y) = P(Y|X)P(X) \\quad\\quad\\quad P(X,Y) = P(X|Y)P(Y)$$\n",
    "\n",
    "From the last two equations, we can derive the Bayes Theorem:\n",
    "\n",
    "$$P(Y|X) = \\frac{P(X|Y)P(Y)}{P(X)}$$\n"
   ]
  },
  {
   "cell_type": "markdown",
   "metadata": {
    "id": "O4_AZwUbXc2H"
   },
   "source": [
    "In our example:\n",
    "\n",
    "$$P(Rain|Cloudy) = \\frac{P(Cloudy|Rain)P(Rain)}{P(Cloudy)}$$\n",
    "\n",
    "$$P(Rain|Cloudy) = \\frac{0.50 \\cdot 0.10}{ 0.40 } = 12.5\\% $$\n",
    "\n",
    "... well, lower than I expected!\n"
   ]
  },
  {
   "cell_type": "markdown",
   "metadata": {
    "id": "m2dMBaSwXc2I"
   },
   "source": [
    "In a Machine Learning scenario, the question becomes:\n",
    "\n",
    " - what is $P(y|X)$ ?\n",
    "\n",
    "Or, in presence of multiple classes $C_1, \\ldots, C_m$, what is \n",
    "\n",
    "$$\\arg \\max_{C_i} P(C_i |X)$$\n"
   ]
  },
  {
   "cell_type": "markdown",
   "metadata": {
    "id": "vwVCqU2QXc2I"
   },
   "source": [
    "In order to make this computation feasible , we assume features are conditionally independent of one another:\n",
    "\n",
    "$$\n",
    " P(X|C_i ) = P(x_1 | C_i) \\cdot P(x_2 | C_i) \\cdot \\ldots P(x_f | C_i)\n",
    "$$\n",
    "\n",
    "and therefore the prediction of our model is:\n",
    "\n",
    "$$\\arg \\max_{C_i} P(C_i |X) = P(x_1 | C_i) \\cdot P(x_2 | C_i) \\cdot \\ldots P(x_f | C_i) \\frac{P(C_i)}{P(X)}\n",
    "$$\n",
    "\n",
    "Note that $P(X)$ does not change the ranking of the different classes $C_i$, and therefore it can be removed for classification purposes."
   ]
  },
  {
   "cell_type": "markdown",
   "metadata": {
    "id": "pVtK4MYVXc2I"
   },
   "source": [
    "- Nicely enough, $P(x_j|C_i)$ can be pre-computed from the dataset\n",
    "  - **Multinomial Naive Bayes**: if feature $f_j$ is **categorical** then $P(x_j|C_i)$ is the number of instances in the dataset of class $C_i$ whose $j$-the features has the same values as $X$, divided by the cardinality of $C_i$.\n",
    "  - **Gaussian Naive Bayes**: if feature $f_j$ is **numerical** then we assume the feature has Gaussian distribution and, after computing mean $\\mu$ and standard deviation $\\sigma$ from the dataset, we have:\n",
    "  $$\n",
    "  P(x_j|C_i) = \\frac{1}{\\sqrt{2\\pi}\\sigma} e^{-\\frac{(x_j-\\mu)^2}{2\\sigma^2}}\n",
    "  $$"
   ]
  },
  {
   "cell_type": "markdown",
   "metadata": {
    "ExecuteTime": {
     "start_time": "2023-10-20T14:33:10.073633Z"
    },
    "id": "CNJbdkNlXc2I"
   },
   "source": [
    "\n",
    "- Bayesian classifiers are statistical classifiers. They can predict class membership probabilities such as the probability that a given tuple belongs to a particular class.\n",
    "\n",
    "- Naive Bayesian classifiers assume that the effect of an attribute value on a given class is independent of the values of the other attributes."
   ]
  },
  {
   "cell_type": "code",
   "execution_count": 27,
   "metadata": {
    "id": "ncsGiMwGXc2I"
   },
   "outputs": [],
   "source": [
    "# get data\n",
    "from sklearn.model_selection import train_test_split\n",
    "X_train, X_test, y_train, y_test = train_test_split(data['text'], data['label'], random_state=0)\n",
    "\n",
    "# create the vectorizer\n",
    "from sklearn.feature_extraction.text import CountVectorizer\n",
    "vctz = CountVectorizer(binary=False)\n",
    "X_train = vctz.fit_transform(X_train)"
   ]
  },
  {
   "cell_type": "code",
   "execution_count": 28,
   "metadata": {
    "colab": {
     "base_uri": "https://localhost:8080/"
    },
    "executionInfo": {
     "elapsed": 907,
     "status": "ok",
     "timestamp": 1667470954911,
     "user": {
      "displayName": "Claudio Lucchese",
      "userId": "16947562387814380599"
     },
     "user_tz": -60
    },
    "id": "2OAybjHAXc2I",
    "outputId": "f61099c4-6a51-46e7-b2bd-c993813a5d2c"
   },
   "outputs": [
    {
     "name": "stdout",
     "output_type": "stream",
     "text": [
      "Model Accuracy: 98.85%\n"
     ]
    }
   ],
   "source": [
    "from sklearn.metrics import accuracy_score\n",
    "from sklearn.naive_bayes import MultinomialNB\n",
    "\n",
    "model = MultinomialNB()\n",
    "model.fit(X_train.toarray(),y_train)\n",
    "\n",
    "model_acc = accuracy_score ( y_true = y_test,\n",
    "     y_pred = model.predict( vctz.transform(X_test).toarray() ))\n",
    "print ( f\"Model Accuracy: {model_acc*100:.2f}%\" )"
   ]
  },
  {
   "cell_type": "markdown",
   "metadata": {
    "ExecuteTime": {
     "start_time": "2023-10-20T14:33:10.075564Z"
    },
    "id": "Z55xUWUWXc2I"
   },
   "source": [
    "## What if we have $P(x_j|C_i)$ = 0?\n",
    "\n",
    "\n",
    "- The whole product goes to zero, even if signals from other features were very strong.\n",
    "\n",
    "- **Laplace Correction**: Pretend we observe one additional instance for feature value.\n",
    "$$\n",
    "P(x_j|C_i) = \\frac{N_{ij}+1}{N_i + v}\n",
    "$$ \n",
    "\n",
    "where:\n",
    "\n",
    " - $N_{ij}$ is the number of instances in class $C_i$ with a value of the $j$ feature equal to $x_j$ \n",
    " - $N_i$ is the number of instances in class $C_i$\n",
    " - $v$ is the total number of unique values of feature $j$ in dataset $D$. \n",
    " \n",
    "There are other variants.\n",
    "\n",
    "## What if we have missing values?\n",
    "\n",
    "- At training time skip instance\n",
    "\n",
    "- At test time assume $P(x_j|C_i)$ is the same for each $C_i$, skip features\n",
    "\n",
    "## Computational Complexity?\n",
    "\n",
    "- Obviously fast\n",
    "- Common practice: avoid numerical issues (e.g., underflow) by computing the log:\n",
    "$$\n",
    " \\log P(C_i |X) = \\log(P(x_1 | C_i)) + \\log( P(x_2 | C_i)) \\cdot \\ldots \\log(P(x_f | C_f))\n",
    "$$\n",
    "\n",
    "## Remarks\n",
    "- parameters can be estimated with a small amount of data\n",
    "- Robust to isolated noise points\n",
    "- Handle missing values \n",
    "- Robust to irrelevant attributes\n",
    "  - they do not impact much on estimating the model parameters\n",
    "- Independence assumption may not hold for some attributes\n",
    "- extremely fast for both training and prediction\n",
    "- provide straightforward probabilistic prediction\n",
    "- easily interpretable\n",
    "- few tunable parameters"
   ]
  },
  {
   "cell_type": "code",
   "execution_count": 29,
   "metadata": {
    "colab": {
     "base_uri": "https://localhost:8080/",
     "height": 544
    },
    "executionInfo": {
     "elapsed": 499,
     "status": "ok",
     "timestamp": 1667470955408,
     "user": {
      "displayName": "Claudio Lucchese",
      "userId": "16947562387814380599"
     },
     "user_tz": -60
    },
    "id": "i_LGC2cWXc2J",
    "outputId": "913bcf4c-0135-44aa-9feb-c72da403cd73"
   },
   "outputs": [
    {
     "data": {
      "image/png": "[encoded data removed]",
      "text/plain": [
       "<Figure size 640x480 with 2 Axes>"
      ]
     },
     "metadata": {},
     "output_type": "display_data"
    },
    {
     "data": {
      "image/png": "[encoded data removed]",
      "text/plain": [
       "<Figure size 640x480 with 1 Axes>"
      ]
     },
     "metadata": {},
     "output_type": "display_data"
    }
   ],
   "source": [
    "from sklearn.metrics import RocCurveDisplay, ConfusionMatrixDisplay\n",
    "\n",
    "ConfusionMatrixDisplay.from_estimator(\n",
    "    estimator=model,\n",
    "    X=vctz.transform (X_test), y=y_test, \n",
    "    cmap = 'Blues_r')\n",
    "\n",
    "\n",
    "\n",
    "RocCurveDisplay.from_estimator(\n",
    "    estimator=model,\n",
    "    X=vctz.transform (X_test), y=y_test);"
   ]
  },
  {
   "cell_type": "code",
   "execution_count": 30,
   "metadata": {
    "colab": {
     "base_uri": "https://localhost:8080/"
    },
    "executionInfo": {
     "elapsed": 11,
     "status": "ok",
     "timestamp": 1667470955408,
     "user": {
      "displayName": "Claudio Lucchese",
      "userId": "16947562387814380599"
     },
     "user_tz": -60
    },
    "id": "vCRkL7ZzXc2J",
    "outputId": "ffae0f6f-e961-42cf-8245-dc76a92c3456"
   },
   "outputs": [
    {
     "name": "stdout",
     "output_type": "stream",
     "text": [
      "AUROC: 0.977\n"
     ]
    }
   ],
   "source": [
    "from sklearn.metrics import roc_auc_score\n",
    "\n",
    "auroc = roc_auc_score( y_true  = y_test, \n",
    "                       y_score = model.predict_proba(vctz.transform(X_test))[:,1])\n",
    "\n",
    "print (f\"AUROC: {auroc:.3f}\")"
   ]
  },
  {
   "cell_type": "markdown",
   "metadata": {
    "id": "W8VNKLREXc2J"
   },
   "source": [
    "### Additional insight: Detection error tradeoff (DET) curve\n",
    "\n",
    "Illustrates the trade-off between False Positives and False Negatives in normal deviate scale."
   ]
  },
  {
   "cell_type": "markdown",
   "metadata": {
    "ExecuteTime": {
     "start_time": "2023-10-20T14:33:10.077318Z"
    },
    "id": "f4-yWIVmXc2J"
   },
   "source": [
    "**False Positive Rate**: $\\frac{\\text{\\# False Positives}}{\\text{\\# Total Negatives}}$\n",
    "\n",
    "**False Negative Rate**: $\\frac{\\text{\\# False Negatives}}{\\text{\\# Total Positives}}$"
   ]
  },
  {
   "cell_type": "code",
   "execution_count": 31,
   "metadata": {
    "colab": {
     "base_uri": "https://localhost:8080/",
     "height": 404
    },
    "executionInfo": {
     "elapsed": 361,
     "status": "ok",
     "timestamp": 1667470955762,
     "user": {
      "displayName": "Claudio Lucchese",
      "userId": "16947562387814380599"
     },
     "user_tz": -60
    },
    "id": "gEnt-I_EXc2J",
    "outputId": "997abc08-fd9c-4ac1-cdb1-b9d4b7e21e95"
   },
   "outputs": [
    {
     "data": {
      "image/png": "[encoded data removed]",
      "text/plain": [
       "<Figure size 900x600 with 1 Axes>"
      ]
     },
     "metadata": {},
     "output_type": "display_data"
    }
   ],
   "source": [
    "import matplotlib.pyplot as plt\n",
    "from sklearn.metrics import DetCurveDisplay\n",
    "\n",
    "fig, ax = plt.subplots(figsize=(9, 6))\n",
    "\n",
    "DetCurveDisplay.from_estimator(\n",
    "    estimator=model,\n",
    "    X=vctz.transform (X_test), y=y_test,\n",
    "    ax=ax)\n",
    "\n",
    "ax.set_title('DET Curve')\n",
    "ax.grid()"
   ]
  },
  {
   "cell_type": "code",
   "execution_count": null,
   "metadata": {
    "collapsed": false
   },
   "outputs": [],
   "source": []
  }
 ],
 "metadata": {
  "colab": {
   "collapsed_sections": [
    "Jgxx5IY8Xc2C"
   ],
   "provenance": []
  },
  "kernelspec": {
   "display_name": "Python 3.8.2 64-bit",
   "language": "python",
   "name": "python3"
  },
  "language_info": {
   "codemirror_mode": {
    "name": "ipython",
    "version": 3
   },
   "file_extension": ".py",
   "mimetype": "text/x-python",
   "name": "python",
   "nbconvert_exporter": "python",
   "pygments_lexer": "ipython3",
   "version": "3.11.5"
  },
  "orig_nbformat": 4,
  "vscode": {
   "interpreter": {
    "hash": "31f2aee4e71d21fbe5cf8b01ff0e069b9275f58929596ceb00d14d90e3e16cd6"
   }
  }
 },
 "nbformat": 4,
 "nbformat_minor": 0
}
